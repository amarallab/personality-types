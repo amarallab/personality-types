{
 "cells": [
  {
   "cell_type": "markdown",
   "metadata": {},
   "source": [
    "We fit a gaussian mixture model to the factor scores of all individuals trying to find the best number of clusters using the BIC"
   ]
  },
  {
   "cell_type": "code",
   "execution_count": 1,
   "metadata": {
    "collapsed": true
   },
   "outputs": [],
   "source": [
    "%load_ext autoreload\n",
    "%autoreload 2\n",
    "\n",
    "import os, sys\n",
    "import pandas as pd\n",
    "import numpy as np\n",
    "import glob\n",
    "\n",
    "import pylab as plt\n",
    "from matplotlib.pyplot import get_cmap\n",
    "%matplotlib inline  \n",
    "\n",
    "src_dir = os.path.abspath(os.path.join(os.pardir,'src'))\n",
    "sys.path[0] = src_dir\n",
    "\n",
    "from analysis.cluster_density import gmm_kd\n",
    "from analysis.data_sample import get_subset\n",
    "from analysis.data_sample import data_bootstrap\n"
   ]
  },
  {
   "cell_type": "markdown",
   "metadata": {},
   "source": [
    "# Load data and setup"
   ]
  },
  {
   "cell_type": "code",
   "execution_count": 2,
   "metadata": {
    "collapsed": true
   },
   "outputs": [],
   "source": [
    "# factor scores\n",
    "path_read = os.path.join(src_dir,os.pardir,'data_filter')\n",
    "fname_read = 'ipip300-no0_arr_pd_neoac_score-1.npy'\n",
    "filename = os.path.join(path_read,fname_read)\n",
    "arr_pd =  np.load(filename)\n",
    "\n",
    "# parameters for fitting\n",
    "n_rep = 10 # number of different initial conditions for optimization\n",
    "arr_Nc = np.arange(1,10,1) ## range of values for number of clusters\n",
    "\n",
    "# these are not needed but will be specified\n",
    "n_rep_kd = 0 # number of randomizations for estaimting density --> not needed here: 0\n",
    "bw = -1 # bandwidth for density estimation (-1, estimate from avg nearest-neighbor distance)\n",
    "N_samples = 0 # number of pairs of n.n. for estimating bandwidth --> not needed here:0\n"
   ]
  },
  {
   "cell_type": "code",
   "execution_count": 3,
   "metadata": {
    "collapsed": true
   },
   "outputs": [],
   "source": [
    "#####\n",
    "# z-score the data in each dimension\n",
    "#####\n",
    "N_,D_ = np.shape(arr_pd)\n",
    "for d in range(D_):\n",
    "    x_tmp = arr_pd[:,d]\n",
    "    x_mu = np.mean(x_tmp)\n",
    "    x_std = np.std(x_tmp)\n",
    "    arr_pd[:,d] = (x_tmp - x_mu)/x_std\n",
    "\n",
    "#####\n",
    "# get a random subset to reduce processing time\n",
    "# use line above if you want to fit the whole dataset\n",
    "#####\n",
    "\n",
    "# arr_x = 1.0*arr_pd#\n",
    "arr_x = get_subset(arr_pd,1000) \n"
   ]
  },
  {
   "cell_type": "markdown",
   "metadata": {
    "collapsed": true
   },
   "source": [
    "# Fit"
   ]
  },
  {
   "cell_type": "code",
   "execution_count": 4,
   "metadata": {},
   "outputs": [
    {
     "name": "stdout",
     "output_type": "stream",
     "text": [
      "1\n",
      "2\n",
      "3\n",
      "4\n",
      "5\n",
      "6\n",
      "7\n",
      "8\n",
      "9\n"
     ]
    }
   ],
   "source": [
    "arr_BIC = 0.0*arr_Nc\n",
    "for i_Nc,Nc in enumerate(arr_Nc):\n",
    "    print(Nc)\n",
    "    ## fit the gmm\n",
    "    dict_result_tmp = gmm_kd(Nc,arr_x,n_rep,n_rep_kd, bw = bw, N_samples = N_samples)\n",
    "    ## get the BIC\n",
    "    arr_BIC[i_Nc] = dict_result_tmp['BIC']"
   ]
  },
  {
   "cell_type": "code",
   "execution_count": 7,
   "metadata": {},
   "outputs": [
    {
     "name": "stdout",
     "output_type": "stream",
     "text": [
      "bootstrap sample 1 of 10\n",
      "bootstrap sample 2 of 10\n",
      "bootstrap sample 3 of 10\n",
      "bootstrap sample 4 of 10\n",
      "bootstrap sample 5 of 10\n",
      "bootstrap sample 6 of 10\n",
      "bootstrap sample 7 of 10\n",
      "bootstrap sample 8 of 10\n",
      "bootstrap sample 9 of 10\n",
      "bootstrap sample 10 of 10\n"
     ]
    }
   ],
   "source": [
    "## errorbars of the BIC from bootstrapping the dataset \n",
    "## note that this is NOT a randomization, \n",
    "## we simply draw the same number of respondents with replacement\n",
    "n_boot = 10 # in the paper we use 100\n",
    "arr_BIC_boot = np.zeros((n_boot, len(arr_Nc)))\n",
    "\n",
    "for i_n_boot in range(n_boot):\n",
    "    arr_x_boot = data_bootstrap(arr_x)\n",
    "    print('bootstrap sample %s of %s'%(i_n_boot+1,n_boot))\n",
    "    for i_Nc,Nc in enumerate(arr_Nc):\n",
    "        ## fit the gmm\n",
    "        dict_result_tmp = gmm_kd(Nc,arr_x_boot,n_rep,n_rep_kd, bw = bw, N_samples = N_samples)\n",
    "        ## get the BIC\n",
    "        arr_BIC_boot[i_n_boot,i_Nc] = dict_result_tmp['BIC']"
   ]
  },
  {
   "cell_type": "markdown",
   "metadata": {},
   "source": [
    "# Plot the result"
   ]
  },
  {
   "cell_type": "code",
   "execution_count": 9,
   "metadata": {},
   "outputs": [
    {
     "data": {
      "text/plain": [
       "Text(0,0.5,'BIC')"
      ]
     },
     "execution_count": 9,
     "metadata": {},
     "output_type": "execute_result"
    },
    {
     "data": {
      "image/png": "[encoded data removed]",
      "text/plain": [
       "<matplotlib.figure.Figure at 0x7f4b1726da90>"
      ]
     },
     "metadata": {},
     "output_type": "display_data"
    }
   ],
   "source": [
    "# plt.plot(arr_Nc,arr_BIC,marker='o')\n",
    "yerr = np.std(arr_BIC_boot,axis=0)\n",
    "plt.errorbar(arr_Nc,arr_BIC,yerr = yerr, marker='o')\n",
    "\n",
    "plt.xlabel(r'Number of clusters, $N_c$')\n",
    "plt.ylabel('BIC')"
   ]
  },
  {
   "cell_type": "code",
   "execution_count": null,
   "metadata": {
    "collapsed": true
   },
   "outputs": [],
   "source": []
  }
 ],
 "metadata": {
  "kernelspec": {
   "display_name": "Python 3",
   "language": "python",
   "name": "python3"
  },
  "language_info": {
   "codemirror_mode": {
    "name": "ipython",
    "version": 3
   },
   "file_extension": ".py",
   "mimetype": "text/x-python",
   "name": "python",
   "nbconvert_exporter": "python",
   "pygments_lexer": "ipython3",
   "version": "3.6.1"
  }
 },
 "nbformat": 4,
 "nbformat_minor": 1
}
