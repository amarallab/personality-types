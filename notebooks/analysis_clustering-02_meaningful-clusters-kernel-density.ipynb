{
 "cells": [
  {
   "cell_type": "markdown",
   "metadata": {},
   "source": [
    "We fit a gaussian mixture model with a fixed number of clusters; we then estimate for each cluster the kerneldensity and compare it with the kerneldensity at the same point in a randomized dataset."
   ]
  },
  {
   "cell_type": "code",
   "execution_count": 1,
   "metadata": {
    "collapsed": true
   },
   "outputs": [],
   "source": [
    "%load_ext autoreload\n",
    "%autoreload 2\n",
    "\n",
    "import os, sys\n",
    "import pandas as pd\n",
    "import numpy as np\n",
    "import glob\n",
    "\n",
    "import pylab as plt\n",
    "from matplotlib.pyplot import get_cmap\n",
    "%matplotlib inline  \n",
    "\n",
    "src_dir = os.path.abspath(os.path.join(os.pardir,'src'))\n",
    "sys.path[0] = src_dir\n",
    "\n",
    "from analysis.cluster_density import gmm_kd\n",
    "from analysis.data_sample import get_subset\n",
    "from analysis.density import rho_pval,rho_eff"
   ]
  },
  {
   "cell_type": "markdown",
   "metadata": {},
   "source": [
    "# Load data and setup"
   ]
  },
  {
   "cell_type": "code",
   "execution_count": 2,
   "metadata": {
    "collapsed": true
   },
   "outputs": [],
   "source": [
    "# factor scores\n",
    "path_read = os.path.join(src_dir,os.pardir,'data_filter')\n",
    "fname_read = 'ipip300-no0_arr_pd_neoac_score-1.npy'\n",
    "filename = os.path.join(path_read,fname_read)\n",
    "arr_pd =  np.load(filename)\n",
    "\n",
    "# parameters for fitting\n",
    "n_rep = 10 # number of different initial conditions for optimization\n",
    "Nc = 13 # this is the number we found in the paper\n",
    "n_rep_kd = 1000 # number of randomizations for estaimting density \n",
    "bw = -1 # bandwidth for density estimation (-1, estimate from avg nearest-neighbor distance)\n",
    "N_samples = 10000 # number of pairs of n.n. for estimating bandwidth \n"
   ]
  },
  {
   "cell_type": "code",
   "execution_count": 3,
   "metadata": {
    "collapsed": true
   },
   "outputs": [],
   "source": [
    "#####\n",
    "# z-score the data in each dimension\n",
    "#####\n",
    "N_,D_ = np.shape(arr_pd)\n",
    "for d in range(D_):\n",
    "    x_tmp = arr_pd[:,d]\n",
    "    x_mu = np.mean(x_tmp)\n",
    "    x_std = np.std(x_tmp)\n",
    "    arr_pd[:,d] = (x_tmp - x_mu)/x_std\n",
    "\n",
    "#####\n",
    "# get a random subset to reduce processing time\n",
    "# use line above if you want to fit the whole dataset\n",
    "#####\n",
    "arr_x = 1.0*arr_pd#\n",
    "# arr_x = get_subset(arr_pd,10000) \n"
   ]
  },
  {
   "cell_type": "markdown",
   "metadata": {
    "collapsed": true
   },
   "source": [
    "# Fit"
   ]
  },
  {
   "cell_type": "code",
   "execution_count": 4,
   "metadata": {
    "collapsed": true
   },
   "outputs": [],
   "source": [
    "## fit the gmm\n",
    "dict_result = gmm_kd(Nc,arr_x,n_rep,n_rep_kd, bw = bw, N_samples = N_samples)"
   ]
  },
  {
   "cell_type": "code",
   "execution_count": 16,
   "metadata": {
    "collapsed": true
   },
   "outputs": [],
   "source": [
    "\n",
    "## the cluster centers\n",
    "arr_cd = dict_result['cluster']\n",
    "## the covariance matrix for each cluster\n",
    "list_arr_cov = dict_result['cov']\n",
    "\n",
    "\n",
    "\n",
    "arr_rho = dict_result['rho'] ## density for each cluster in original dataset\n",
    "arr_rho_rand = dict_result['rho_rand'] ## density for each cluster in randomized dataset\n",
    "\n",
    "## the p-value and the enrichment for the kerneldensity \n",
    "## in comparison to kd in randomimzed datat\n",
    "arr_rho_eff = rho_eff(arr_rho,arr_rho_rand)\n",
    "arr_rho_pval = rho_pval(arr_rho,arr_rho_rand)"
   ]
  },
  {
   "cell_type": "code",
   "execution_count": 17,
   "metadata": {},
   "outputs": [
    {
     "name": "stdout",
     "output_type": "stream",
     "text": [
      "Cluster 1 \n",
      "N:0.63 | E:0.19 | O:-0.64 | A:0.35 | C:0.67\n",
      "p-value:0.00 | enrichment:1.16\n",
      "---\n",
      "Cluster 2 \n",
      "N:-0.87 | E:-1.08 | O:0.32 | A:-0.14 | C:-0.58\n",
      "p-value:0.97 | enrichment:0.89\n",
      "---\n",
      "Cluster 3 \n",
      "N:0.44 | E:-0.71 | O:0.55 | A:0.93 | C:-0.37\n",
      "p-value:0.89 | enrichment:0.93\n",
      "---\n",
      "Cluster 4 \n",
      "N:-0.09 | E:0.72 | O:-0.78 | A:-0.65 | C:-0.38\n",
      "p-value:0.00 | enrichment:1.40\n",
      "---\n",
      "Cluster 5 \n",
      "N:1.10 | E:0.19 | O:0.38 | A:-0.37 | C:-0.74\n",
      "p-value:0.95 | enrichment:0.91\n",
      "---\n",
      "Cluster 6 \n",
      "N:0.59 | E:-0.83 | O:0.64 | A:-0.16 | C:0.75\n",
      "p-value:0.81 | enrichment:0.95\n",
      "---\n",
      "Cluster 7 \n",
      "N:0.50 | E:0.90 | O:0.64 | A:0.10 | C:0.35\n",
      "p-value:0.23 | enrichment:1.04\n",
      "---\n",
      "Cluster 8 \n",
      "N:0.75 | E:-0.93 | O:-0.99 | A:-0.07 | C:-0.53\n",
      "p-value:0.23 | enrichment:1.06\n",
      "---\n",
      "Cluster 9 \n",
      "N:-0.79 | E:0.35 | O:0.32 | A:0.52 | C:0.72\n",
      "p-value:0.00 | enrichment:1.46\n",
      "---\n",
      "Cluster 10 \n",
      "N:-0.23 | E:0.45 | O:-0.55 | A:0.42 | C:-0.30\n",
      "p-value:0.00 | enrichment:1.31\n",
      "---\n",
      "Cluster 11 \n",
      "N:-0.64 | E:0.57 | O:0.82 | A:0.10 | C:-0.66\n",
      "p-value:1.00 | enrichment:0.84\n",
      "---\n",
      "Cluster 12 \n",
      "N:-0.24 | E:-0.30 | O:0.24 | A:-1.82 | C:0.40\n",
      "p-value:0.99 | enrichment:0.80\n",
      "---\n",
      "Cluster 13 \n",
      "N:-0.58 | E:-0.16 | O:-0.78 | A:-0.01 | C:0.36\n",
      "p-value:0.00 | enrichment:1.59\n",
      "---\n"
     ]
    }
   ],
   "source": [
    "for i_Nc in range(Nc):\n",
    "    print('Cluster %s '%(i_Nc+1))\n",
    "    print('N:%.2f | E:%.2f | O:%.2f | A:%.2f | C:%.2f'%\n",
    "          (arr_cd[i_Nc,0],arr_cd[i_Nc,1],arr_cd[i_Nc,2],arr_cd[i_Nc,3],arr_cd[i_Nc,4]) )\n",
    "    print('p-value:%.2f | enrichment:%.2f'%\n",
    "          (arr_rho_pval[i_Nc],arr_rho_eff[i_Nc]))\n",
    "    print('---')"
   ]
  },
  {
   "cell_type": "markdown",
   "metadata": {},
   "source": [
    "# Plot the result\n",
    "\n",
    "for each cluster we plot the p-value and the enrichment"
   ]
  },
  {
   "cell_type": "code",
   "execution_count": 18,
   "metadata": {},
   "outputs": [
    {
     "data": {
      "text/plain": [
       "Text(0.5,0,'Enrichment, $\\\\rho/\\\\langle \\\\tilde{\\\\rho} \\\\rangle$')"
      ]
     },
     "execution_count": 18,
     "metadata": {},
     "output_type": "execute_result"
    },
    {
     "data": {
      "image/png": "[encoded data removed]",
      "text/plain": [
       "<matplotlib.figure.Figure at 0x7f5718e492e8>"
      ]
     },
     "metadata": {},
     "output_type": "display_data"
    }
   ],
   "source": [
    "pval_crit = 0.01\n",
    "eff_crit = 1.25\n",
    "cmap = get_cmap('tab10')\n",
    "c_ = cmap(1)\n",
    "c_shade=str(0.8)\n",
    "cmap = get_cmap('tab10')\n",
    "\n",
    "\n",
    "f = plt.figure()\n",
    "\n",
    "ax = f.add_subplot(111)\n",
    "x = np.log10(arr_rho_eff + 0.0*np.random.random(size=len(arr_rho_eff))   ) \n",
    "y = np.log10(arr_rho_pval)\n",
    "ax.plot(x,y,ms=3,lw=0,marker='x',color=c_)\n",
    "# ax.fill_between(x,0.001+0.0*x,1.0+0.0*x,where=y<=pval_crit,color=c_shade)\n",
    "# ax.set_yscale('log')\n",
    "\n",
    "#     xmin = 0.\n",
    "xmax = np.log10(2.)\n",
    "xmin=-xmax\n",
    "\n",
    "ymin = -4.5\n",
    "ymax=0.5\n",
    "x = np.linspace(xmin,xmax,10)\n",
    "y = np.log10(pval_crit)+0.0*x\n",
    "ax.plot(x,y,ms=0,lw=1,ls=':',marker='o',color='black')\n",
    "\n",
    "x = [np.log10(eff_crit),np.log10(eff_crit)]\n",
    "y = [ymin,ymax]\n",
    "ax.plot(x,y,ms=0,lw=1,ls=':',marker='o',color='black')\n",
    "\n",
    "x = [0,0]\n",
    "y = [ymin,ymax]\n",
    "ax.plot(x,y,ms=0,lw=1,ls='-',marker='o',color=str(0.5))#,alpha=0.5)\n",
    "\n",
    "x = np.linspace(np.log10(eff_crit),xmax,10)\n",
    "y1 = ymin + 0.0*x\n",
    "y2 = np.log10(pval_crit) + 0.0*x\n",
    "ax.fill_between(x,y1,y2,color=c_shade)\n",
    "\n",
    "# # ax.set_xlabel(r'cluster index')\n",
    "ax.set_ylabel(r'$\\log_{10}$ $p$-value')\n",
    "# ax.set_yscale('log')\n",
    "\n",
    "x_marks = np.log10( np.array([0.5,0.8, 1., 1.25,2.]) )\n",
    "x_labels = ['0.5','0.8','1','1.25','2']\n",
    "ax.set_xticks(x_marks)\n",
    "ax.set_xticklabels(x_labels)\n",
    "# ax.set_xticklabels([])\n",
    "ax.set_yticks([-4,-3,-2,-1,0])\n",
    "# ax.set_yticklabels([r'$-3$',r'$-2$',r'$-1$',r'$0$'])\n",
    "ax.set_ylim(-4.5,0.5)\n",
    "ax.set_xlim(xmin,xmax)\n",
    "\n",
    "\n",
    "\n",
    "#     ax.locator_params(axis = 'x',nbins=5)\n",
    "ax.set_xlabel(r'Enrichment, $\\rho/\\langle \\tilde{\\rho} \\rangle$',labelpad=3)\n"
   ]
  },
  {
   "cell_type": "code",
   "execution_count": null,
   "metadata": {
    "collapsed": true
   },
   "outputs": [],
   "source": []
  },
  {
   "cell_type": "markdown",
   "metadata": {},
   "source": [
    "# Plot the location of the 4 significant clusters"
   ]
  },
  {
   "cell_type": "code",
   "execution_count": 19,
   "metadata": {},
   "outputs": [],
   "source": [
    "## sort clusters according to enrichment\n",
    "ind_sort = np.argsort(arr_rho_eff)[::-1]\n",
    "\n",
    "arr_rho_eff = arr_rho_eff[ind_sort]\n",
    "arr_rho_pval = arr_rho_pval[ind_sort]\n",
    "arr_cd = arr_cd[ind_sort]\n",
    "list_arr_cov = list_arr_cov[ind_sort]"
   ]
  },
  {
   "cell_type": "code",
   "execution_count": 34,
   "metadata": {},
   "outputs": [],
   "source": [
    "## coordinates extracted from previus literature\n",
    "\n",
    "## resilient\n",
    "x1 = np.array([\n",
    "        [-0.4,0.25,0.25,0.25,0.4],\n",
    "        [-0.6,0.45,0.2,0.3,0.5],\n",
    "        [-0.5,0.25,0.6,0.6,0.6],\n",
    "        [-0.1,0.4,0.35,0.3,0.5],\n",
    "        [-0.85,0.5,0.0,0.9,0.7],\n",
    "        [-0.9,0.8,0.6,0.7,1.0]\n",
    "               ])\n",
    "## overcontrolled\n",
    "x2 = np.array([\n",
    "        [1.2,-1.2,-0.4,0.4,-0.35],\n",
    "        [0.6,-0.9,-0.25,0.0,0.0],\n",
    "        [0.5,-0.6,-1.0,-0.65,-0.1],\n",
    "        [0.2,-0.9,-0.9,0.0,.1],\n",
    "        [1.0,0.0,0.8,0.2,0.0],\n",
    "        [1.3,-1.2,-0.4,-0.8,0.0],\n",
    "               ])\n",
    "## undercontrolled\n",
    "x3 = np.array([\n",
    "        [0.7,0.0,-0.5,-1.2,-1.2],\n",
    "        [0.3,0.1,-0.1,-0.45,-0.9],\n",
    "        [0.15,0.2,0.15,-0.25,-0.75],\n",
    "        [0.1,-0.2,-0.2,-0.7,-1.2],\n",
    "        [1.2,-0.75,0.0,-1.2,-1.0],\n",
    "        [0.8,0.6,0.8,-1.2,0.0]\n",
    "    ])\n",
    "## ordinary/\n",
    "x4 = np.array([\n",
    "        [np.nan,np.nan,np.nan,np.nan,np.nan],\n",
    "        [np.nan,np.nan,np.nan,np.nan,np.nan],\n",
    "        [np.nan,np.nan,np.nan,np.nan,np.nan],\n",
    "        [np.nan,np.nan,np.nan,np.nan,np.nan],\n",
    "        [np.nan,np.nan,np.nan,np.nan,np.nan],\n",
    "        [np.nan,np.nan,np.nan,np.nan,np.nan]\n",
    "    ])\n",
    "list_x = [x4,x3,x2,x1]\n",
    "\n",
    "\n",
    "list_N = np.array([300,1610,735,14718,8315,1644])\n",
    "list_N_ = np.sqrt(list_N)\n",
    "# list_ms = np.log(list_N)/np.log(max(list_N))\n",
    "list_ms =  0.5 + (list_N_/max(list_N_) - min(list_N_)/max(list_N_)   )#*np.sqrt(   min(list_N)/max(list_N)   ) +  np.sqrt(   list_N/max(list_N)   )\n",
    "list_markers = ['o','X','P','s','D','p']\n"
   ]
  },
  {
   "cell_type": "code",
   "execution_count": 21,
   "metadata": {},
   "outputs": [
    {
     "data": {
      "text/plain": [
       "array([1.58507883, 1.45897958, 1.39530252, 1.31057764, 1.1578193 ,\n",
       "       1.05504255, 1.03730296, 0.94962593, 0.93452306, 0.90946033,\n",
       "       0.89126009, 0.84375777, 0.79794677])"
      ]
     },
     "execution_count": 21,
     "metadata": {},
     "output_type": "execute_result"
    }
   ],
   "source": [
    "arr_rho_eff"
   ]
  },
  {
   "cell_type": "code",
   "execution_count": 22,
   "metadata": {},
   "outputs": [
    {
     "name": "stderr",
     "output_type": "stream",
     "text": [
      "/home/martin/anaconda3/lib/python3.6/site-packages/matplotlib/__init__.py:800: MatplotlibDeprecationWarning: text.fontsize is deprecated and replaced with font.size; please use the latter.\n",
      "  mplDeprecation)\n"
     ]
    }
   ],
   "source": [
    "###########\n",
    "## Setup ##\n",
    "###########\n",
    "# number of pt for column in latex-document\n",
    "fig_width_pt = 400  # single-column:510, double-column: 246; Get this from LaTeX using \\showthe\\columnwidth\n",
    "inches_per_pt = 1.1/72.27 # Convert pt to inches\n",
    "width_vs_height = (np.sqrt(5)-1.0)/2.0 # Ratio of height/width [(np.sqrt(5)-1.0)/2.0]\n",
    "fig_width = fig_width_pt*inches_per_pt  # width in inches\n",
    "fig_height = width_vs_height*fig_width  # height in inches\n",
    "Ampl = 1.0 # Amplification factor for screen: set this to ONE for final plot of eps\n",
    "fig_size = [Ampl*fig_width,Ampl*fig_height]\n",
    "\n",
    "# here you can set the parameters of the plot (fontsizes,...) in pt\n",
    "params = {'backend': 'ps',\n",
    "          'axes.labelsize': Ampl*8,\n",
    "          'text.fontsize': Ampl*8,\n",
    "          'legend.fontsize': Ampl*8,\n",
    "          'xtick.labelsize': Ampl*8,\n",
    "          'ytick.labelsize': Ampl*8,\n",
    "          'text.usetex': True,\n",
    "          'ps.usedistiller' : 'xpdf',\n",
    "          'figure.figsize': fig_size,\n",
    "          #'figtext.fontsize': Ampl*10,\n",
    "          'text.latex.unicode':True,\n",
    "          'text.latex.preamble': [r'\\usepackage{bm}'],\n",
    "          'xtick.direction':'out',\n",
    "          'ytick.direction':'out'\n",
    "         }\n",
    "plt.rcParams.update(params)"
   ]
  },
  {
   "cell_type": "code",
   "execution_count": 32,
   "metadata": {
    "collapsed": true
   },
   "outputs": [],
   "source": [
    "n_sel = 4\n",
    "n_std = 1\n",
    "\n",
    "x_bottom = 0.2\n",
    "x_left = 0.2\n",
    "x_right = 0.95\n",
    "x_top = 0.95\n",
    "x_h=0.1\n",
    "x_w=0.05\n",
    "ms = 7\n",
    "h = 0.1\n",
    "cmap = get_cmap('tab10')\n",
    "\n",
    "list_doms = ['N','E','O','A','C']\n",
    "list_doms_labels = ['Neuroticism','Extraversion','Openness','Agreeableness','Conscientiousness']\n",
    "c_names = ['Average','Self-centered','Reserved','Role model']\n"
   ]
  },
  {
   "cell_type": "code",
   "execution_count": 35,
   "metadata": {},
   "outputs": [
    {
     "data": {
      "image/png": "[encoded data removed]",
      "text/plain": [
       "<matplotlib.figure.Figure at 0x7f5718be34a8>"
      ]
     },
     "metadata": {},
     "output_type": "display_data"
    }
   ],
   "source": [
    "f = plt.figure(figsize=fig_size)\n",
    "plt.clf()\n",
    "\n",
    "list_inds = [3,2,0,1 ] ## different ordering of the clusters\n",
    "\n",
    "for i_plot in range(n_sel):\n",
    "\n",
    "    ax = f.add_subplot(2,2,i_plot+1)\n",
    "\n",
    "\n",
    "    i_n = list_inds[i_plot]\n",
    "    x_vec = arr_cd[i_n,:]\n",
    "    x_cov_dim_dim = list_arr_cov[i_n]\n",
    "\n",
    "    x = np.arange(len(list_doms))\n",
    "    y = x_vec\n",
    "\n",
    "    yerr = n_std*np.sqrt( x_cov_dim_dim.diagonal()  )\n",
    "    y1 = y - yerr\n",
    "    y2 = y + yerr\n",
    "    \n",
    "    xshift =  0.0 #-h#(i_n-(n_sel-1)/2.0)*h/((n_sel-1)/2.0)\n",
    "    c_ = cmap(i_plot)\n",
    "    ax.errorbar(x+xshift,y,yerr=yerr,label='Cluster %s'%(i_n+1),mec=c_,color=c_,ecolor=c_,mew=1,\\\n",
    "                lw=0,elinewidth=1,marker='o',capsize=2,ms=ms)\n",
    "    \n",
    "\n",
    "    ax.plot(x,0.0*x,ls=':',color='black')\n",
    "\n",
    "    # the labels of the types [ordering of clusters could vary]\n",
    "    ax.text(2.1, 1.1, c_names[i_plot], rotation=0., color=c_, size=10,\n",
    "             ha=\"center\", va=\"center\",\n",
    "             bbox=dict(boxstyle=\"round\",\n",
    "                       ec='white',\n",
    "                       fc='white',\n",
    "                       alpha=0.\n",
    "                       )\n",
    "             )\n",
    "\n",
    "    ### the old-literature plots [not supplied here]\n",
    "    arr_x = list_x[i_plot]\n",
    "    for i_x_vec,x_vec in enumerate(arr_x):\n",
    "\n",
    "        x = np.arange(len(list_doms)) +h\n",
    "        y = x_vec\n",
    "\n",
    "        xshift = h#(i_n-(n_sel-1)/2.0)*h/((n_sel-1)/2.0)\n",
    "        c_ = str(0.5)\n",
    "        ax.plot(x+xshift,y,color=c_,\\\n",
    "                lw=0,marker=list_markers[i_x_vec],ms=3*list_ms[i_x_vec],alpha=0.8)\n",
    "    \n",
    "    \n",
    "    \n",
    "    ax.set_xticks(x)\n",
    "    list_y = np.array([-1.0,-0.5,0.0,0.5,1.0])\n",
    "    ax.set_yticks(list_y)\n",
    "    if i_plot>1:\n",
    "        ax.set_xlabel('Domains')\n",
    "        ax.set_xticklabels(list_doms)\n",
    "#         ax.set_xticklabels(list_doms_labels, rotation=-30,ha='left')\n",
    "\n",
    "    else:\n",
    "        ax.set_xticklabels(['' for j in x])\n",
    "    if i_plot%2==0:\n",
    "        ax.set_ylabel(r'Position of Cluster [z-score]')\n",
    "    else:\n",
    "        ax.set_yticklabels(['' for j in list_y])\n",
    "        \n",
    "        \n",
    "    # plt.xscale('log')\n",
    "    # ax.set_yscale('log')\n",
    "    ax.set_ylim(-1.3,1.3)\n",
    "    # ax.set_xlim(0,3)"
   ]
  },
  {
   "cell_type": "code",
   "execution_count": null,
   "metadata": {
    "collapsed": true
   },
   "outputs": [],
   "source": []
  }
 ],
 "metadata": {
  "kernelspec": {
   "display_name": "Python 3",
   "language": "python",
   "name": "python3"
  },
  "language_info": {
   "codemirror_mode": {
    "name": "ipython",
    "version": 3
   },
   "file_extension": ".py",
   "mimetype": "text/x-python",
   "name": "python",
   "nbconvert_exporter": "python",
   "pygments_lexer": "ipython3",
   "version": "3.6.1"
  }
 },
 "nbformat": 4,
 "nbformat_minor": 1
}
