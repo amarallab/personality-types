{
 "cells": [
  {
   "cell_type": "code",
   "execution_count": 3,
   "metadata": {
    "collapsed": true
   },
   "outputs": [],
   "source": [
    "%load_ext autoreload\n",
    "%autoreload 2\n",
    "\n",
    "import os, sys\n",
    "import pandas as pd\n",
    "import numpy as np\n",
    "import glob\n",
    "import pickle\n",
    "import matplotlib.pyplot as plt\n",
    "%matplotlib inline  \n",
    "from matplotlib.pyplot import get_cmap\n",
    "\n",
    "\n",
    "from scipy.spatial.distance import cdist\n",
    "\n",
    "\n"
   ]
  },
  {
   "cell_type": "code",
   "execution_count": 7,
   "metadata": {
    "collapsed": true
   },
   "outputs": [],
   "source": [
    "src_dir = os.path.abspath(os.path.join(os.pardir,'src'))\n",
    "sys.path[0] = src_dir\n",
    "\n",
    "from analysis.density import cdf_dist_arrid_vec"
   ]
  },
  {
   "cell_type": "code",
   "execution_count": 8,
   "metadata": {},
   "outputs": [
    {
     "data": {
      "text/plain": [
       "0.6180339887498949"
      ]
     },
     "execution_count": 8,
     "metadata": {},
     "output_type": "execute_result"
    }
   ],
   "source": [
    "(np.sqrt(5)-1.0)/2.0"
   ]
  },
  {
   "cell_type": "markdown",
   "metadata": {},
   "source": [
    "# Load data"
   ]
  },
  {
   "cell_type": "code",
   "execution_count": 9,
   "metadata": {
    "collapsed": true
   },
   "outputs": [],
   "source": [
    "path_read = os.path.join(src_dir,os.pardir,'data_filter')\n",
    "fname_read = 'ipip300-no0_arr_pd_neoac_score-1.npy'\n",
    "filename = os.path.join(path_read,fname_read)\n",
    "arr_pd =  np.load(filename)\n"
   ]
  },
  {
   "cell_type": "code",
   "execution_count": 10,
   "metadata": {
    "collapsed": true
   },
   "outputs": [],
   "source": [
    "#####\n",
    "# z-score the data in each dimension\n",
    "#####\n",
    "N_,D_ = np.shape(arr_pd)\n",
    "for d in range(D_):\n",
    "    x_tmp = arr_pd[:,d]\n",
    "    x_mu = np.mean(x_tmp)\n",
    "    x_std = np.std(x_tmp)\n",
    "    arr_pd[:,d] = (x_tmp - x_mu)/x_std"
   ]
  },
  {
   "cell_type": "code",
   "execution_count": 11,
   "metadata": {
    "collapsed": true
   },
   "outputs": [],
   "source": [
    "## cluster-positions as described in paper\n",
    "\n",
    "c_names = ['Average','Self-centered','Reserved',' Role Model']\n",
    "arr_cd_dom = np.zeros((4,5))\n",
    "arr_cd_dom[0,:] = np.array([ 0.55,0.51,-0.60,0.25,0.25 ])\n",
    "arr_cd_dom[1,:] = np.array([ -0.23,0.70,-0.75,-0.56,-0.44 ])\n",
    "arr_cd_dom[2,:] = np.array([ -0.54,-0.07,-0.77,0.12,0.19 ])\n",
    "arr_cd_dom[3,:] = np.array([ -0.70,0.52,0.23,0.62,0.78 ])"
   ]
  },
  {
   "cell_type": "code",
   "execution_count": 12,
   "metadata": {
    "collapsed": true
   },
   "outputs": [],
   "source": [
    "\n",
    "arr_d = np.linspace(0.25,3.0,51)\n"
   ]
  },
  {
   "cell_type": "code",
   "execution_count": 13,
   "metadata": {},
   "outputs": [
    {
     "data": {
      "text/plain": [
       "array([0.25 , 0.305, 0.36 , 0.415, 0.47 , 0.525, 0.58 , 0.635, 0.69 ,\n",
       "       0.745, 0.8  , 0.855, 0.91 , 0.965, 1.02 , 1.075, 1.13 , 1.185,\n",
       "       1.24 , 1.295, 1.35 , 1.405, 1.46 , 1.515, 1.57 , 1.625, 1.68 ,\n",
       "       1.735, 1.79 , 1.845, 1.9  , 1.955, 2.01 , 2.065, 2.12 , 2.175,\n",
       "       2.23 , 2.285, 2.34 , 2.395, 2.45 , 2.505, 2.56 , 2.615, 2.67 ,\n",
       "       2.725, 2.78 , 2.835, 2.89 , 2.945, 3.   ])"
      ]
     },
     "execution_count": 13,
     "metadata": {},
     "output_type": "execute_result"
    }
   ],
   "source": [
    "arr_d"
   ]
  },
  {
   "cell_type": "code",
   "execution_count": 14,
   "metadata": {},
   "outputs": [
    {
     "name": "stdout",
     "output_type": "stream",
     "text": [
      "[-0.54 -0.07 -0.77  0.12  0.19]\n",
      "Reserved\n"
     ]
    }
   ],
   "source": [
    "## select which type\n",
    "\n",
    "ind_i = 2\n",
    "x_vec = arr_cd_dom[ind_i,:]\n",
    "type_i = c_names[ind_i]\n",
    "print(x_vec)\n",
    "print(type_i)\n",
    "\n",
    "# d_min = 0.1\n",
    "# d_max = 3.0# np.max(arr_p_dist)\n",
    "# N_d = 100\n",
    "# arr_d = np.linspace(d_min,d_max,N_d)\n",
    "\n",
    "n_boot = 100\n",
    "n_rand = 100\n",
    "\n",
    "arr_p, arr_p_rand, arr_p_boot = cdf_dist_arrid_vec(arr_pd, x_vec, arr_d , n_rand, n_boot)\n"
   ]
  },
  {
   "cell_type": "code",
   "execution_count": null,
   "metadata": {
    "collapsed": true
   },
   "outputs": [],
   "source": []
  },
  {
   "cell_type": "code",
   "execution_count": 15,
   "metadata": {
    "collapsed": true
   },
   "outputs": [
    {
     "name": "stderr",
     "output_type": "stream",
     "text": [
      "/home/martin/anaconda3/lib/python3.7/site-packages/matplotlib/__init__.py:846: MatplotlibDeprecationWarning: \n",
      "The text.latex.unicode rcparam was deprecated in Matplotlib 2.2 and will be removed in 3.1.\n",
      "  \"2.2\", name=key, obj_type=\"rcparam\", addendum=addendum)\n"
     ]
    }
   ],
   "source": [
    "###########\n",
    "## Setup ##\n",
    "###########\n",
    "# number of pt for column in latex-document\n",
    "fig_width_pt = 246  # single-column:510, double-column: 246; Get this from LaTeX using \\showthe\\columnwidth\n",
    "inches_per_pt = 1.1/72.27 # Convert pt to inches\n",
    "width_vs_height = (np.sqrt(5)-1.0)/1.8# Ratio of height/width [(np.sqrt(5)-1.0)/2.0]\n",
    "fig_width = fig_width_pt*inches_per_pt  # width in inches\n",
    "fig_height = width_vs_height*fig_width  # height in inches\n",
    "Ampl = 1.0 # Amplification factor for screen: set this to ONE for final plot of eps\n",
    "fig_size = [Ampl*fig_width,Ampl*fig_height]\n",
    "\n",
    "# here you can set the parameters of the plot (fontsizes,...) in pt\n",
    "params = {'backend': 'ps',\n",
    "          'axes.labelsize': Ampl*10,\n",
    "#           'text.fontsize': Ampl*10,\n",
    "          'legend.fontsize': Ampl*8,\n",
    "          'xtick.labelsize': Ampl*10,\n",
    "          'ytick.labelsize': Ampl*10,\n",
    "          'text.usetex': True,\n",
    "          'ps.usedistiller' : 'xpdf',\n",
    "          'figure.figsize': fig_size,\n",
    "          #'figtext.fontsize': Ampl*10,\n",
    "          'text.latex.unicode':True,\n",
    "          'text.latex.preamble': [r'\\usepackage{bm}'],\n",
    "          'xtick.direction':'out',\n",
    "          'ytick.direction':'out',\n",
    "          \n",
    "          'axes.spines.right' : False,\n",
    "          'axes.spines.top' : False\n",
    "\n",
    "         }\n",
    "plt.rcParams.update(params)"
   ]
  },
  {
   "cell_type": "code",
   "execution_count": 20,
   "metadata": {},
   "outputs": [
    {
     "name": "stderr",
     "output_type": "stream",
     "text": [
      "/home/martin/anaconda3/lib/python3.7/site-packages/ipykernel_launcher.py:36: RuntimeWarning: divide by zero encountered in true_divide\n",
      "/home/martin/anaconda3/lib/python3.7/site-packages/ipykernel_launcher.py:38: RuntimeWarning: invalid value encountered in maximum\n"
     ]
    },
    {
     "data": {
      "image/png": "[encoded data removed]",
      "text/plain": [
       "<Figure size 269.589x185.128 with 1 Axes>"
      ]
     },
     "metadata": {
      "needs_background": "light"
     },
     "output_type": "display_data"
    }
   ],
   "source": [
    "cmap = get_cmap('tab10')\n",
    "\n",
    "\n",
    "## cumulative distribution of fraction of ponts with distance <= x\n",
    "## true data and randomized data\n",
    "n_std = 2\n",
    "\n",
    "f = plt.figure()\n",
    "plt.clf()\n",
    "ax = f.add_subplot(111)\n",
    "\n",
    "## original data + bootstrap\n",
    "x = arr_d\n",
    "y = arr_p\n",
    "\n",
    "#     ax.plot(x,y,label='original data')\n",
    "\n",
    "yerr = n_std*np.std(arr_p_boot,axis=0)\n",
    "y1 = np.maximum(0.0*y,y - yerr)\n",
    "y2 = y + yerr\n",
    "#     ax.fill_between(x,y1,y2,alpha=0.5)\n",
    "\n",
    "## randomized data\n",
    "x = arr_d\n",
    "y = np.mean(arr_p_rand,axis=0)\n",
    "yerr = np.std(arr_p_rand,axis=0)\n",
    "#     ax.plot(x,y,label='randomized data')\n",
    "\n",
    "y1 = np.maximum(0.0*y,y - yerr)\n",
    "y2 = y + yerr\n",
    "#     ax.fill_between(x,y1,y2,alpha=0.5)\n",
    "\n",
    "\n",
    "x = arr_d\n",
    "y = arr_p/np.mean(arr_p_rand,axis=0)\n",
    "yerr = n_std*np.std(  arr_p_boot/arr_p_rand ,axis=0)\n",
    "ax.plot(x,y)\n",
    "y1 = np.maximum(0.0*y,y - yerr)\n",
    "y2 = y + yerr\n",
    "ax.fill_between(x,y1,y2,alpha=0.5)\n",
    "ax.plot(x,1.0+0.0*x,color='black',ls='-')\n",
    "\n",
    "\n",
    "plt.figtext(0.5,0.8,'%s - type '%(type_i))\n",
    "\n",
    "#     ax.legend(loc='upper left')\n",
    "ax.set_xlabel('Radius of hypersphere, $r$')\n",
    "ax.set_ylabel(r'No. of respondents within $r$' \n",
    "                \"\\n\"\n",
    "              '[ratio:original/random] ')\n",
    "# plt.xscale('log')\n",
    "#     ax.set_yscale('log')\n",
    "ax.set_ylim(0,2)\n",
    "ax.set_xlim(0,3)\n",
    "\n",
    "\n",
    "ax.plot([0.4,0.4],[0,1.57],ls=':',lw=1,color='black')\n",
    "ax.plot([0.8,0.8],[0,1.58],ls=':',lw=1,color='black')\n",
    "\n",
    "plt.subplots_adjust(bottom=0.175,wspace=0.4,left=0.18)\n",
    "\n",
    "path_save = '../figures/'\n",
    "fname_save = 'commentary-freudenstein_fig-c-density-cluster.png'\n",
    "filename = os.path.join(path_save,fname_save)\n",
    "plt.savefig(filename,dpi=300)"
   ]
  },
  {
   "cell_type": "code",
   "execution_count": null,
   "metadata": {
    "collapsed": true
   },
   "outputs": [],
   "source": []
  }
 ],
 "metadata": {
  "kernelspec": {
   "display_name": "Python 3",
   "language": "python",
   "name": "python3"
  },
  "language_info": {
   "codemirror_mode": {
    "name": "ipython",
    "version": 3
   },
   "file_extension": ".py",
   "mimetype": "text/x-python",
   "name": "python",
   "nbconvert_exporter": "python",
   "pygments_lexer": "ipython3",
   "version": "3.7.3"
  }
 },
 "nbformat": 4,
 "nbformat_minor": 2
}
