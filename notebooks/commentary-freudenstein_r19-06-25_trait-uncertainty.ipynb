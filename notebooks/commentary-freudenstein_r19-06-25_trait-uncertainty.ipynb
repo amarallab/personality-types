{
 "cells": [
  {
   "cell_type": "code",
   "execution_count": 1,
   "metadata": {
    "collapsed": true
   },
   "outputs": [],
   "source": [
    "%load_ext autoreload\n",
    "%autoreload 2\n",
    "\n",
    "import os, sys\n",
    "import pandas as pd\n",
    "import numpy as np\n",
    "import glob\n",
    "import pickle\n",
    "import matplotlib.pyplot as plt\n",
    "%matplotlib inline  \n",
    "from matplotlib.pyplot import get_cmap\n",
    "\n",
    "\n",
    "from scipy.spatial.distance import cdist\n",
    "\n",
    "\n"
   ]
  },
  {
   "cell_type": "code",
   "execution_count": 2,
   "metadata": {
    "collapsed": true
   },
   "outputs": [],
   "source": [
    "src_dir = os.path.abspath(os.path.join(os.pardir,os.pardir,'src'))\n",
    "sys.path[0] = src_dir\n",
    "\n",
    "# from analysis.density import cdf_dist_arrid_vec"
   ]
  },
  {
   "cell_type": "code",
   "execution_count": 3,
   "metadata": {},
   "outputs": [
    {
     "data": {
      "text/plain": [
       "0.6180339887498949"
      ]
     },
     "execution_count": 3,
     "metadata": {},
     "output_type": "execute_result"
    }
   ],
   "source": [
    "(np.sqrt(5)-1.0)/2.0"
   ]
  },
  {
   "cell_type": "code",
   "execution_count": null,
   "metadata": {},
   "outputs": [],
   "source": []
  },
  {
   "cell_type": "markdown",
   "metadata": {},
   "source": [
    "# Get data"
   ]
  },
  {
   "cell_type": "code",
   "execution_count": 4,
   "metadata": {
    "collapsed": true
   },
   "outputs": [],
   "source": [
    "path_read = os.path.join(os.pardir,'data_filter')\n",
    "fname_read = 'ipip300-no0_arr_pd_neoac_score-1.npy'\n",
    "filename = os.path.join(path_read,fname_read)\n",
    "arr_pd =  np.load(filename)\n",
    "#####\n",
    "# z-score the data in each dimension\n",
    "#####\n",
    "N_,D_ = np.shape(arr_pd)\n",
    "for d in range(D_):\n",
    "    x_tmp = arr_pd[:,d]\n",
    "    x_mu = np.mean(x_tmp)\n",
    "    x_std = np.std(x_tmp)\n",
    "    arr_pd[:,d] = (x_tmp - x_mu)/x_std"
   ]
  },
  {
   "cell_type": "code",
   "execution_count": null,
   "metadata": {},
   "outputs": [],
   "source": []
  },
  {
   "cell_type": "code",
   "execution_count": null,
   "metadata": {
    "collapsed": true
   },
   "outputs": [],
   "source": []
  },
  {
   "cell_type": "code",
   "execution_count": 5,
   "metadata": {},
   "outputs": [],
   "source": [
    "r = 0.8 ## reliability\n",
    "t = 1.96 ## t-statistic (1.96 for 95% confidence)\n",
    "## the t-statistic above determines the confidence interval\n",
    "## e.g. 95%, we would reject on a 0.05-significance level\n",
    "## for a given value x mapped to true score x*r, we count the fraction of respondents\n",
    "## that are outside this confidence interval.\n",
    "d_r_crit = t*np.sqrt(r*(1.-r))"
   ]
  },
  {
   "cell_type": "code",
   "execution_count": 6,
   "metadata": {},
   "outputs": [],
   "source": [
    "## select one trait\n",
    "x = arr_pd[:,0]\n",
    "x_r = r*x ## regressed scores"
   ]
  },
  {
   "cell_type": "code",
   "execution_count": 7,
   "metadata": {},
   "outputs": [],
   "source": [
    "arr_x = np.linspace(-3,3,100)\n",
    "arr_N_d = np.zeros( len(arr_x) )\n",
    "for i_x_sel,x_sel in enumerate(arr_x):\n",
    "    x_r_sel = r*x_sel\n",
    "    d_r = np.abs(x_r_sel - x_r)\n",
    "    N_d = len(np.where( d_r > d_r_crit )[0])\n",
    "    arr_N_d[i_x_sel] = N_d/N_\n",
    "    \n"
   ]
  },
  {
   "cell_type": "code",
   "execution_count": 8,
   "metadata": {},
   "outputs": [],
   "source": [
    "bins = np.linspace(-3,3,51)\n",
    "H,edges = np.histogram(x,bins=bins,density=True)"
   ]
  },
  {
   "cell_type": "code",
   "execution_count": 9,
   "metadata": {},
   "outputs": [
    {
     "data": {
      "text/plain": [
       "(0, 1)"
      ]
     },
     "execution_count": 9,
     "metadata": {},
     "output_type": "execute_result"
    },
    {
     "data": {
      "image/png": "[encoded data removed]",
      "text/plain": [
       "<Figure size 432x288 with 1 Axes>"
      ]
     },
     "metadata": {
      "needs_background": "light"
     },
     "output_type": "display_data"
    }
   ],
   "source": [
    "plt.plot(arr_x,arr_N_d)\n",
    "\n",
    "x_ = 0.5*(edges[1:]+edges[:-1])\n",
    "y_ = H\n",
    "plt.plot(x_,y_,color='black',ls=':')\n",
    "\n",
    "plt.ylim(0,1)"
   ]
  },
  {
   "cell_type": "code",
   "execution_count": null,
   "metadata": {},
   "outputs": [],
   "source": []
  },
  {
   "cell_type": "code",
   "execution_count": 10,
   "metadata": {},
   "outputs": [
    {
     "name": "stderr",
     "output_type": "stream",
     "text": [
      "/home/martin/anaconda3/lib/python3.7/site-packages/matplotlib/__init__.py:846: MatplotlibDeprecationWarning: \n",
      "The text.latex.unicode rcparam was deprecated in Matplotlib 2.2 and will be removed in 3.1.\n",
      "  \"2.2\", name=key, obj_type=\"rcparam\", addendum=addendum)\n"
     ]
    }
   ],
   "source": [
    "###########\n",
    "## Setup ##\n",
    "###########\n",
    "# number of pt for column in latex-document\n",
    "fig_width_pt = 246  # single-column:510, double-column: 246; Get this from LaTeX using \\showthe\\columnwidth\n",
    "inches_per_pt = 1.1/72.27 # Convert pt to inches\n",
    "width_vs_height = (np.sqrt(5)-1.0)/1.8# Ratio of height/width [(np.sqrt(5)-1.0)/2.0]\n",
    "fig_width = fig_width_pt*inches_per_pt  # width in inches\n",
    "fig_height = width_vs_height*fig_width  # height in inches\n",
    "Ampl = 1.0 # Amplification factor for screen: set this to ONE for final plot of eps\n",
    "fig_size = [Ampl*fig_width,Ampl*fig_height]\n",
    "\n",
    "# here you can set the parameters of the plot (fontsizes,...) in pt\n",
    "params = {'backend': 'ps',\n",
    "          'axes.labelsize': Ampl*10,\n",
    "#           'text.fontsize': Ampl*10,\n",
    "          'legend.fontsize': Ampl*8,\n",
    "          'xtick.labelsize': Ampl*10,\n",
    "          'ytick.labelsize': Ampl*10,\n",
    "          'text.usetex': True,\n",
    "          'ps.usedistiller' : 'xpdf',\n",
    "          'figure.figsize': fig_size,\n",
    "          #'figtext.fontsize': Ampl*10,\n",
    "          'text.latex.unicode':True,\n",
    "          'text.latex.preamble': [r'\\usepackage{bm}'],\n",
    "          'xtick.direction':'out',\n",
    "          'ytick.direction':'out',\n",
    "          \n",
    "          'axes.spines.right' : False,\n",
    "          'axes.spines.top' : False\n",
    "\n",
    "         }\n",
    "plt.rcParams.update(params)"
   ]
  },
  {
   "cell_type": "code",
   "execution_count": 14,
   "metadata": {},
   "outputs": [
    {
     "data": {
      "image/png": "[encoded data removed]",
      "text/plain": [
       "<Figure size 269.589x185.128 with 1 Axes>"
      ]
     },
     "metadata": {
      "needs_background": "light"
     },
     "output_type": "display_data"
    }
   ],
   "source": [
    "cmap = get_cmap('tab10')\n",
    "\n",
    "\n",
    "f = plt.figure()\n",
    "plt.clf()\n",
    "ax = f.add_subplot(111)\n",
    "# ax2 = ax.twinx()  # instantiate a second axes that shares the same x-axis\n",
    "\n",
    "\n",
    "\n",
    "c0 = cmap(3)\n",
    "x_pl = arr_x\n",
    "y_pl = arr_N_d\n",
    "p1 =ax.plot(x_pl,y_pl,color=c0,label=r'Fraction reject $\\hat{x}_i=\\hat{x}$')\n",
    "\n",
    "c1 = cmap(7)\n",
    "x_pl = 0.5*(edges[1:]+edges[:-1])\n",
    "y_pl = H\n",
    "p2=ax.plot(x_pl,y_pl,color=c1,label=r'Density $P(\\hat{z})$')\n",
    "\n",
    "# ax.legend(frameon=False)\n",
    "ax.set_xlabel(r'Observed score $\\hat{z}$')\n",
    "ax.set_ylabel(r'Probability')\n",
    "\n",
    "ax.set_ylim(0,1)\n",
    "\n",
    "s = r'Density $P(\\hat{z})$'\n",
    "ax.text(-1.5,0.05,s,color=c1)\n",
    "s = r'Fraction of samples $\\hat{z}_i$:'\n",
    "ax.text(-1.5,0.9,s,color=c0)\n",
    "s = r'reject hypothesis $z_i=z$'\n",
    "ax.text(-1.5,0.8,s,color=c0)\n",
    "\n",
    "# ax2.set_ylabel(r'Density $P(\\hat{x})$',color=c1)\n",
    "\n",
    "\n",
    "plt.subplots_adjust(bottom=0.175,wspace=0.4,left=0.15)\n",
    "\n",
    "path_save = '../figures/'\n",
    "fname_save = 'commentary-freudenstein_fig-a-trait-uncertainty.png'\n",
    "filename = os.path.join(path_save,fname_save)\n",
    "plt.savefig(filename,dpi=300)"
   ]
  },
  {
   "cell_type": "code",
   "execution_count": null,
   "metadata": {
    "collapsed": true
   },
   "outputs": [],
   "source": []
  },
  {
   "cell_type": "code",
   "execution_count": null,
   "metadata": {},
   "outputs": [],
   "source": []
  },
  {
   "cell_type": "code",
   "execution_count": null,
   "metadata": {},
   "outputs": [],
   "source": []
  }
 ],
 "metadata": {
  "kernelspec": {
   "display_name": "Python 3",
   "language": "python",
   "name": "python3"
  },
  "language_info": {
   "codemirror_mode": {
    "name": "ipython",
    "version": 3
   },
   "file_extension": ".py",
   "mimetype": "text/x-python",
   "name": "python",
   "nbconvert_exporter": "python",
   "pygments_lexer": "ipython3",
   "version": "3.7.3"
  }
 },
 "nbformat": 4,
 "nbformat_minor": 2
}
