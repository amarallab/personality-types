{
 "cells": [
  {
   "cell_type": "code",
   "execution_count": 1,
   "metadata": {
    "collapsed": true
   },
   "outputs": [],
   "source": [
    "%load_ext autoreload\n",
    "%autoreload 2\n",
    "\n",
    "import os, sys\n",
    "import pandas as pd\n",
    "import numpy as np\n",
    "# import glob\n",
    "# import pickle\n",
    "import matplotlib.pyplot as plt\n",
    "%matplotlib inline  \n",
    "from matplotlib.pyplot import get_cmap\n",
    "\n",
    "src_dir = os.path.abspath(os.path.join(os.pardir,'src'))\n",
    "sys.path[0] = src_dir\n",
    "\n",
    "# from analysis.density import kerneldensity\n",
    "from sklearn.neighbors.kde import KernelDensity\n",
    "from analysis.data_sample import data_randomize\n",
    "\n",
    "\n"
   ]
  },
  {
   "cell_type": "markdown",
   "metadata": {
    "collapsed": true
   },
   "source": [
    "# Load factor scores (positions in 5D-space)"
   ]
  },
  {
   "cell_type": "code",
   "execution_count": 2,
   "metadata": {},
   "outputs": [
    {
     "name": "stdout",
     "output_type": "stream",
     "text": [
      "[ 3.04962354e-17 -2.69774390e-17  3.12781901e-18 -1.21202987e-17\n",
      "  2.50225521e-17] [1. 1. 1. 1. 1.]\n"
     ]
    }
   ],
   "source": [
    "# factor scores\n",
    "path_read = os.path.join(src_dir,os.pardir,'data_filter')\n",
    "fname_read = 'ipip300-no0_arr_pd_neoac_score-1.npy'\n",
    "filename = os.path.join(path_read,fname_read)\n",
    "arr_pd =  np.load(filename)\n",
    "\n",
    "## z-score the data\n",
    "N_,D_ = np.shape(arr_pd)\n",
    "for d in range(D_):\n",
    "    x_tmp = arr_pd[:,d]\n",
    "    x_mu = np.mean(x_tmp)\n",
    "    x_std = np.std(x_tmp)\n",
    "    arr_pd[:,d] = (x_tmp - x_mu)/x_std\n",
    "    \n",
    "print(np.mean(arr_pd,axis=0),np.std(arr_pd,axis=0))"
   ]
  },
  {
   "cell_type": "markdown",
   "metadata": {
    "collapsed": true
   },
   "source": [
    "# Select 3 personality types\n",
    "\n",
    "from Supplementary Table 1 (or directly from clustering)"
   ]
  },
  {
   "cell_type": "code",
   "execution_count": 3,
   "metadata": {
    "collapsed": true
   },
   "outputs": [],
   "source": [
    "x0 = np.array([-0.70, 0.52, 0.23, 0.62, 0.78]) ## Role Model type\n",
    "x1 = np.array([-0.23, 0.70, -0.75, -0.56, -0.44]) ## Self-centered type\n",
    "x2 = np.array([-0.54, -0.07, -0.77, 0.12, 0.19]) ## Reserved type"
   ]
  },
  {
   "cell_type": "markdown",
   "metadata": {},
   "source": [
    "## Parameters for sampling of the hyperplane\n",
    "\n",
    "The three vectors (x0, x1, x2) define a 2D-plane within the 5D-trait space.\n",
    "\n",
    "We will sample the density in the 5D-space across this hyperplane.\n"
   ]
  },
  {
   "cell_type": "code",
   "execution_count": 4,
   "metadata": {
    "collapsed": true
   },
   "outputs": [],
   "source": [
    "n_s = 10 ## no. of points to sample in each of the 2 dimensions (n_s x n_s points in total)\n",
    "## in the paper we used n_s = 100 to obtain a better resolution, \n",
    "## however this will take some time to calculate\n",
    "smin=-2 ## minimum value to sample in each direction\n",
    "smax=2 ## maximum value to sample in each direction\n",
    "n_rep_kd2=100 ## number of realization to obtain density of randomized data\n",
    "bw2 = 0.2 ## bandwidth for the kerneldensity\n",
    "\n",
    "X = arr_pd ## the array to sample\n"
   ]
  },
  {
   "cell_type": "markdown",
   "metadata": {
    "collapsed": true
   },
   "source": [
    "## Construction of the hyperplane\n",
    "\n",
    "We construct two orthonormal unit vectors e_s1 and e_s2 that span the hyperplane.\n",
    "\n",
    "We then sample the plane along these unitvectors.\n",
    "\n"
   ]
  },
  {
   "cell_type": "code",
   "execution_count": 5,
   "metadata": {
    "collapsed": true
   },
   "outputs": [],
   "source": [
    "\n",
    "## the zero-vector is the origin\n",
    "# x0 = np.zeros( len(x1) )\n",
    "### thse two vectors span a 2D-hyperplane\n",
    "v1 = x1-x0 ## this is the difference vector pointing from x0 to x1\n",
    "v2 = x2-x0 ## this is the difference vector pointing from x0 to x2\n",
    "\n",
    "## distance of x0 to the respective clusters\n",
    "v_s1 = np.sqrt(np.sum(v1**2))\n",
    "v_s2 = np.sqrt(np.sum(v2**2))\n",
    "\n",
    "\n",
    "## get two orthonormal unit-vectors (gram-schmidt)\n",
    "e_s1 = v1/v_s1\n",
    "e_s2 = v2 - e_s1*np.sum( e_s1*v2 )\n",
    "e_s2 = e_s2/np.sqrt(  np.sum(e_s2**2)  )\n",
    "\n",
    "## We define xm, the average of x0,x1,x2; as the 0-origin of the plane\n",
    "xm = x0 #np.zeros(5)# 1.0/3*(x0+x1+x2)\n",
    "\n",
    "x0_es1,x0_es2 = np.sum((x0-xm)*e_s1), np.sum((x1-xm)*e_s2)\n",
    "x1_es1,x1_es2 = np.sum((x1-xm)*e_s1), np.sum((x1-xm)*e_s2)\n",
    "x2_es1,x2_es2 = np.sum((x2-xm)*e_s1), np.sum((x2-xm)*e_s2)\n",
    "\n",
    "xm_es1 = 1.0/3*(x0_es1+x1_es1+x2_es1)\n",
    "xm_es2 = 1.0/3*(x0_es2+x1_es2+x2_es2)\n",
    "\n",
    "xm = xm+ xm_es1*e_s1 + xm_es2*e_s2\n",
    "\n",
    "## project x0,x1,x2 into hyperplane in units of e_s1, e_s2\n",
    "x0_es1,x0_es2 = np.sum((x0-xm)*e_s1), np.sum((x1-xm)*e_s2)\n",
    "x1_es1,x1_es2 = np.sum((x1-xm)*e_s1), np.sum((x1-xm)*e_s2)\n",
    "x2_es1,x2_es2 = np.sum((x2-xm)*e_s1), np.sum((x2-xm)*e_s2)\n"
   ]
  },
  {
   "cell_type": "code",
   "execution_count": 6,
   "metadata": {},
   "outputs": [
    {
     "name": "stdout",
     "output_type": "stream",
     "text": [
      "[-0.7   0.52  0.23  0.62  0.78]\n",
      "[-0.7   0.52  0.23  0.62  0.78]\n",
      "\n",
      "[-0.23  0.7  -0.75 -0.56 -0.44]\n",
      "[-0.23  0.7  -0.75 -0.56 -0.44]\n",
      "\n",
      "[-0.54 -0.07 -0.77  0.12  0.19]\n",
      "[-0.54 -0.07 -0.77  0.12  0.19]\n"
     ]
    }
   ],
   "source": [
    "## Check whether the parametrization in the plane gives the correct coordinates\n",
    "print(x0)\n",
    "print(xm + x0_es1*e_s1 + x0_es2*e_s2)\n",
    "\n",
    "print('')\n",
    "\n",
    "print(x1)\n",
    "print(xm + x1_es1*e_s1 + x1_es2*e_s2)\n",
    "\n",
    "print('')\n",
    "\n",
    "print(x2)\n",
    "print(xm + x2_es1*e_s1 + x2_es2*e_s2)"
   ]
  },
  {
   "cell_type": "code",
   "execution_count": 7,
   "metadata": {},
   "outputs": [
    {
     "name": "stdout",
     "output_type": "stream",
     "text": [
      "Random realization 0 of 100\n",
      "Random realization 1 of 100\n",
      "Random realization 2 of 100\n",
      "Random realization 3 of 100\n",
      "Random realization 4 of 100\n",
      "Random realization 5 of 100\n",
      "Random realization 6 of 100\n",
      "Random realization 7 of 100\n",
      "Random realization 8 of 100\n",
      "Random realization 9 of 100\n",
      "Random realization 10 of 100\n",
      "Random realization 11 of 100\n",
      "Random realization 12 of 100\n",
      "Random realization 13 of 100\n",
      "Random realization 14 of 100\n",
      "Random realization 15 of 100\n",
      "Random realization 16 of 100\n",
      "Random realization 17 of 100\n",
      "Random realization 18 of 100\n",
      "Random realization 19 of 100\n",
      "Random realization 20 of 100\n",
      "Random realization 21 of 100\n",
      "Random realization 22 of 100\n",
      "Random realization 23 of 100\n",
      "Random realization 24 of 100\n",
      "Random realization 25 of 100\n",
      "Random realization 26 of 100\n",
      "Random realization 27 of 100\n",
      "Random realization 28 of 100\n",
      "Random realization 29 of 100\n",
      "Random realization 30 of 100\n",
      "Random realization 31 of 100\n",
      "Random realization 32 of 100\n",
      "Random realization 33 of 100\n",
      "Random realization 34 of 100\n",
      "Random realization 35 of 100\n",
      "Random realization 36 of 100\n",
      "Random realization 37 of 100\n",
      "Random realization 38 of 100\n",
      "Random realization 39 of 100\n",
      "Random realization 40 of 100\n",
      "Random realization 41 of 100\n",
      "Random realization 42 of 100\n",
      "Random realization 43 of 100\n",
      "Random realization 44 of 100\n",
      "Random realization 45 of 100\n",
      "Random realization 46 of 100\n",
      "Random realization 47 of 100\n",
      "Random realization 48 of 100\n",
      "Random realization 49 of 100\n",
      "Random realization 50 of 100\n",
      "Random realization 51 of 100\n",
      "Random realization 52 of 100\n",
      "Random realization 53 of 100\n",
      "Random realization 54 of 100\n",
      "Random realization 55 of 100\n",
      "Random realization 56 of 100\n",
      "Random realization 57 of 100\n",
      "Random realization 58 of 100\n",
      "Random realization 59 of 100\n",
      "Random realization 60 of 100\n",
      "Random realization 61 of 100\n",
      "Random realization 62 of 100\n",
      "Random realization 63 of 100\n",
      "Random realization 64 of 100\n",
      "Random realization 65 of 100\n",
      "Random realization 66 of 100\n",
      "Random realization 67 of 100\n",
      "Random realization 68 of 100\n",
      "Random realization 69 of 100\n",
      "Random realization 70 of 100\n",
      "Random realization 71 of 100\n",
      "Random realization 72 of 100\n",
      "Random realization 73 of 100\n",
      "Random realization 74 of 100\n",
      "Random realization 75 of 100\n",
      "Random realization 76 of 100\n",
      "Random realization 77 of 100\n",
      "Random realization 78 of 100\n",
      "Random realization 79 of 100\n",
      "Random realization 80 of 100\n",
      "Random realization 81 of 100\n",
      "Random realization 82 of 100\n",
      "Random realization 83 of 100\n",
      "Random realization 84 of 100\n",
      "Random realization 85 of 100\n",
      "Random realization 86 of 100\n",
      "Random realization 87 of 100\n",
      "Random realization 88 of 100\n",
      "Random realization 89 of 100\n",
      "Random realization 90 of 100\n",
      "Random realization 91 of 100\n",
      "Random realization 92 of 100\n",
      "Random realization 93 of 100\n",
      "Random realization 94 of 100\n",
      "Random realization 95 of 100\n",
      "Random realization 96 of 100\n",
      "Random realization 97 of 100\n",
      "Random realization 98 of 100\n",
      "Random realization 99 of 100\n"
     ]
    }
   ],
   "source": [
    "## sample the density in the hyperplane\n",
    "\n",
    "arr_s1 = np.linspace(smin,smax,n_s)\n",
    "arr_s2 = np.linspace(smin,smax,n_s)\n",
    "\n",
    "## fit the density estimator - original data\n",
    "kde = KernelDensity(kernel='gaussian', bandwidth=bw2).fit(X)\n",
    "arr_rho_s12 = np.zeros((len(arr_s1),len(arr_s2)))\n",
    "for i_s1,s1 in enumerate(arr_s1):\n",
    "    for i_s2,s2 in enumerate(arr_s2):\n",
    "        x_tmp = xm + s1*e_s1 + s2*e_s2\n",
    "        rho_tmp = kde.score_samples(x_tmp.reshape(1, -1))\n",
    "        arr_rho_s12[i_s1,i_s2] = np.exp(rho_tmp)\n",
    "\n",
    "\n",
    "arr_rho_s12_rand = np.zeros((n_rep_kd2,len(arr_s1),len(arr_s2)))\n",
    "for i_nrep in range(n_rep_kd2):\n",
    "    print('Random realization %s of %s'%(i_nrep,n_rep_kd2))\n",
    "    ## fit the density estimator - randomomized data\n",
    "    X_rand = data_randomize(X)#[:1000,:]\n",
    "    kde_rand = KernelDensity(kernel='gaussian', bandwidth=bw2).fit(X_rand)\n",
    "\n",
    "    for i_s1,s1 in enumerate(arr_s1):\n",
    "        for i_s2,s2 in enumerate(arr_s2):\n",
    "            x_tmp = xm + s1*e_s1 + s2*e_s2\n",
    "            rho_tmp = kde_rand.score_samples(x_tmp.reshape(1, -1))\n",
    "            arr_rho_s12_rand[i_nrep,i_s1,i_s2] = np.exp(rho_tmp)\n",
    "\n",
    "    "
   ]
  },
  {
   "cell_type": "code",
   "execution_count": null,
   "metadata": {
    "collapsed": true
   },
   "outputs": [],
   "source": []
  },
  {
   "cell_type": "code",
   "execution_count": null,
   "metadata": {
    "collapsed": true
   },
   "outputs": [],
   "source": []
  },
  {
   "cell_type": "markdown",
   "metadata": {},
   "source": [
    "# Plot the result"
   ]
  },
  {
   "cell_type": "code",
   "execution_count": 8,
   "metadata": {
    "collapsed": true
   },
   "outputs": [],
   "source": [
    "from mpl_toolkits.axes_grid1 import make_axes_locatable"
   ]
  },
  {
   "cell_type": "code",
   "execution_count": 9,
   "metadata": {},
   "outputs": [
    {
     "name": "stderr",
     "output_type": "stream",
     "text": [
      "/home/martin/anaconda3/lib/python3.6/site-packages/matplotlib/__init__.py:800: MatplotlibDeprecationWarning: text.fontsize is deprecated and replaced with font.size; please use the latter.\n",
      "  mplDeprecation)\n"
     ]
    }
   ],
   "source": [
    "###########\n",
    "## Setup ##\n",
    "###########\n",
    "# number of pt for column in latex-document\n",
    "fig_width_pt = 510  # single-column:510, double-column: 246; Get this from LaTeX using \\showthe\\columnwidth\n",
    "inches_per_pt = 1.1/72.27 # Convert pt to inches\n",
    "width_vs_height = (np.sqrt(5)-1.0)/2.0/1.4 # Ratio of height/width [(np.sqrt(5)-1.0)/2.0]\n",
    "fig_width = fig_width_pt*inches_per_pt  # width in inches\n",
    "fig_height = width_vs_height*fig_width  # height in inches\n",
    "Ampl = 1.0 # Amplification factor for screen: set this to ONE for final plot of eps\n",
    "fig_size = [Ampl*fig_width,Ampl*fig_height]\n",
    "\n",
    "# here you can set the parameters of the plot (fontsizes,...) in pt\n",
    "params = {'backend': 'ps',\n",
    "          'axes.labelsize': Ampl*10,\n",
    "          'text.fontsize': Ampl*8,\n",
    "          'legend.fontsize': Ampl*8,\n",
    "          'xtick.labelsize': Ampl*8,\n",
    "          'ytick.labelsize': Ampl*8,\n",
    "          'text.usetex': True,\n",
    "          'ps.usedistiller' : 'xpdf',\n",
    "          'figure.figsize': fig_size,\n",
    "          #'figtext.fontsize': Ampl*10,\n",
    "          'text.latex.unicode':True,\n",
    "          'text.latex.preamble': [r'\\usepackage{bm}'],\n",
    "          'xtick.direction':'out',\n",
    "          'ytick.direction':'out'\n",
    "         }\n",
    "plt.rcParams.update(params)"
   ]
  },
  {
   "cell_type": "code",
   "execution_count": 10,
   "metadata": {},
   "outputs": [
    {
     "data": {
      "image/png": "[encoded data removed]",
      "text/plain": [
       "<matplotlib.figure.Figure at 0x7f0983a674a8>"
      ]
     },
     "metadata": {},
     "output_type": "display_data"
    }
   ],
   "source": [
    "f = plt.figure(figsize=fig_size)\n",
    "\n",
    "plt.clf()\n",
    "#     plt.subplot(121)\n",
    "xmin,xmax = arr_s1[0], arr_s1[-1]\n",
    "ymin,ymax = arr_s2[0], arr_s2[-1]\n",
    "\n",
    "extent = [xmin,xmax,ymin,ymax]\n",
    "xlabel = r'Dimension 1'\n",
    "ylabel = r'Dimension 2'\n",
    "xticks = [-2,-1,0,1,2]\n",
    "yticks = [-2,-1,0,1,2]\n",
    "\n",
    "markers = ['o','v','s']\n",
    "\n",
    "padx = 5\n",
    "pady = 0\n",
    "size_ms = 5\n",
    "##############################\n",
    "cmapname = 'viridis'\n",
    "\n",
    "ax = f.add_subplot(121)\n",
    "arr_z = (np.log(arr_rho_s12)).T\n",
    "im = ax.imshow(arr_z, extent=extent, \\\n",
    "           origin='lower',aspect='auto',interpolation='nearest',vmin=-12,vmax=-4,cmap=get_cmap(cmapname))\n",
    "divider = make_axes_locatable(ax)\n",
    "cax = divider.append_axes('right', size='5%', pad=0.05)\n",
    "f.colorbar(im, cax=cax, orientation='vertical')\n",
    "\n",
    "\n",
    "ax.plot([x0_es1],[x0_es2],marker=markers[0],color='red',ms=size_ms)\n",
    "ax.plot([x1_es1],[x1_es2],marker=markers[1],color='red',ms=size_ms)\n",
    "ax.plot([x2_es1],[x2_es2],marker=markers[2],color='red',ms=size_ms)\n",
    "\n",
    "ax.plot([xmin,xmax],[0,0],color='white',ls='--')\n",
    "ax.plot([0,0],[ymin,ymax],color='white',ls='--')\n",
    "\n",
    "ax.set_ylabel(ylabel,labelpad=pady)\n",
    "ax.set_xlabel(xlabel,labelpad=padx)\n",
    "ax.set_xticks(xticks)\n",
    "ax.set_yticks(yticks)\n",
    "\n",
    "\n",
    "# #############################\\n\",\n",
    "# ### contours for projected sigma\\n\",\n",
    "# ### this has to come from the gaussian mixture model,\n",
    "\n",
    "# x = list_sigma_coords_x[0]\n",
    "# y = list_sigma_coords_y[0]\n",
    "# ax.plot(x,y,ls='-',lw=1,color='black')\n",
    "\n",
    "# x = list_sigma_coords_x[1]\n",
    "# y = list_sigma_coords_y[1]\n",
    "# ax.plot(x,y,ls='-',lw=1,color='black')\n",
    "# x = list_sigma_coords_x[2]\n",
    "# y = list_sigma_coords_y[2]\n",
    "# ax.plot(x,y,ls='-',lw=1,color='black')\n",
    "\n",
    "ax.set_xlim(xmin,xmax)\n",
    "ax.set_ylim(ymin,ymax)\n",
    "##############################\n",
    "\n",
    "\n",
    "\n",
    "ax = f.add_subplot(122)\n",
    "\n",
    "cmapname = 'PuOr_r'\n",
    "smax = 0.8\n",
    "arr_z = (np.log(arr_rho_s12)-np.log(np.mean(arr_rho_s12_rand,axis=0))).T\n",
    "im = ax.imshow(arr_z, \\\n",
    "           extent=extent, origin='lower',aspect='auto',interpolation='nearest',\\\n",
    "           vmin=-smax,vmax=smax,cmap=get_cmap(cmapname))\n",
    "divider = make_axes_locatable(ax)\n",
    "cax = divider.append_axes('right', size='5%', pad=0.05)\n",
    "f.colorbar(im, cax=cax, orientation='vertical')\n",
    "\n",
    "# ax.plot([0.0],[0.0],marker='x',color='red',ms=10)\n",
    "ax.plot([x0_es1],[x0_es2],marker=markers[0],color='red',ms=size_ms)\n",
    "ax.plot([x1_es1],[x1_es2],marker=markers[1],color='red',ms=size_ms)\n",
    "ax.plot([x2_es1],[x2_es2],marker=markers[2],color='red',ms=size_ms)\n",
    "\n",
    "ax.plot([xmin,xmax],[0,0],color='white',ls='--')\n",
    "ax.plot([0,0],[ymin,ymax],color='white',ls='--')\n",
    "# ax.colorbar()\n",
    "\n",
    "\n",
    "ax.set_ylabel(ylabel,labelpad=pady)\n",
    "ax.set_xlabel(xlabel,labelpad=padx)\n",
    "ax.set_xticks(xticks)\n",
    "ax.set_yticks(yticks)\n",
    "\n",
    "plt.subplots_adjust(left=0.1,bottom=0.2,wspace=0.4)\n"
   ]
  },
  {
   "cell_type": "code",
   "execution_count": null,
   "metadata": {
    "collapsed": true
   },
   "outputs": [],
   "source": []
  },
  {
   "cell_type": "code",
   "execution_count": null,
   "metadata": {
    "collapsed": true
   },
   "outputs": [],
   "source": [
    "\n"
   ]
  },
  {
   "cell_type": "code",
   "execution_count": null,
   "metadata": {
    "collapsed": true
   },
   "outputs": [],
   "source": []
  }
 ],
 "metadata": {
  "kernelspec": {
   "display_name": "Python 3",
   "language": "python",
   "name": "python3"
  },
  "language_info": {
   "codemirror_mode": {
    "name": "ipython",
    "version": 3
   },
   "file_extension": ".py",
   "mimetype": "text/x-python",
   "name": "python",
   "nbconvert_exporter": "python",
   "pygments_lexer": "ipython3",
   "version": "3.6.1"
  }
 },
 "nbformat": 4,
 "nbformat_minor": 1
}
