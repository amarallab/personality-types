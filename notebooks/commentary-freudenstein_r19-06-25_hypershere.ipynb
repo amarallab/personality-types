{
 "cells": [
  {
   "cell_type": "code",
   "execution_count": 1,
   "metadata": {
    "collapsed": true
   },
   "outputs": [],
   "source": [
    "%load_ext autoreload\n",
    "%autoreload 2\n",
    "\n",
    "import os, sys\n",
    "import pandas as pd\n",
    "import numpy as np\n",
    "import glob\n",
    "import pickle\n",
    "import matplotlib.pyplot as plt\n",
    "%matplotlib inline  \n",
    "from matplotlib.pyplot import get_cmap\n",
    "\n",
    "\n",
    "from scipy.spatial.distance import cdist\n",
    "\n",
    "\n"
   ]
  },
  {
   "cell_type": "code",
   "execution_count": 2,
   "metadata": {
    "collapsed": true
   },
   "outputs": [],
   "source": [
    "src_dir = os.path.abspath(os.path.join(os.pardir,os.pardir,'src'))\n",
    "sys.path[0] = src_dir\n",
    "\n",
    "# from analysis.density import cdf_dist_arrid_vec"
   ]
  },
  {
   "cell_type": "code",
   "execution_count": 3,
   "metadata": {},
   "outputs": [
    {
     "data": {
      "text/plain": [
       "0.6180339887498949"
      ]
     },
     "execution_count": 3,
     "metadata": {},
     "output_type": "execute_result"
    }
   ],
   "source": [
    "(np.sqrt(5)-1.0)/2.0"
   ]
  },
  {
   "cell_type": "markdown",
   "metadata": {},
   "source": [
    "# Setup Plot"
   ]
  },
  {
   "cell_type": "code",
   "execution_count": null,
   "metadata": {},
   "outputs": [],
   "source": []
  },
  {
   "cell_type": "markdown",
   "metadata": {},
   "source": [
    "# Select parameters"
   ]
  },
  {
   "cell_type": "code",
   "execution_count": 4,
   "metadata": {
    "collapsed": true
   },
   "outputs": [],
   "source": [
    "path_read = os.path.join(os.pardir,'data_filter')\n",
    "fname_read = 'ipip300-no0_arr_pd_neoac_score-1.npy'\n",
    "filename = os.path.join(path_read,fname_read)\n",
    "arr_pd =  np.load(filename)\n"
   ]
  },
  {
   "cell_type": "code",
   "execution_count": null,
   "metadata": {},
   "outputs": [],
   "source": []
  },
  {
   "cell_type": "code",
   "execution_count": 5,
   "metadata": {
    "collapsed": true
   },
   "outputs": [],
   "source": [
    "#####\n",
    "# z-score the data in each dimension\n",
    "#####\n",
    "N_,D_ = np.shape(arr_pd)\n",
    "for d in range(D_):\n",
    "    x_tmp = arr_pd[:,d]\n",
    "    x_mu = np.mean(x_tmp)\n",
    "    x_std = np.std(x_tmp)\n",
    "    arr_pd[:,d] = (x_tmp - x_mu)/x_std"
   ]
  },
  {
   "cell_type": "code",
   "execution_count": 6,
   "metadata": {},
   "outputs": [
    {
     "data": {
      "text/plain": [
       "(array([ 3.04962354e-17, -2.69774390e-17,  3.12781901e-18, -1.21202987e-17,\n",
       "         2.50225521e-17]), array([1., 1., 1., 1., 1.]))"
      ]
     },
     "execution_count": 6,
     "metadata": {},
     "output_type": "execute_result"
    }
   ],
   "source": [
    "np.mean(arr_pd,axis=0),np.std(arr_pd,axis=0)"
   ]
  },
  {
   "cell_type": "code",
   "execution_count": 7,
   "metadata": {
    "collapsed": true
   },
   "outputs": [],
   "source": [
    "\n",
    "arr_d = np.linspace(0.0,10.0,1001)\n"
   ]
  },
  {
   "cell_type": "code",
   "execution_count": 8,
   "metadata": {},
   "outputs": [
    {
     "data": {
      "text/plain": [
       "array([ 0.  ,  0.01,  0.02, ...,  9.98,  9.99, 10.  ])"
      ]
     },
     "execution_count": 8,
     "metadata": {},
     "output_type": "execute_result"
    }
   ],
   "source": [
    "arr_d"
   ]
  },
  {
   "cell_type": "code",
   "execution_count": 9,
   "metadata": {},
   "outputs": [],
   "source": [
    "n_rep = 1000\n",
    "\n",
    "arr_N_d = np.zeros(( n_rep,len(arr_d) ))\n",
    "\n",
    "for i_n_rep in range(n_rep):\n",
    "    i_sel = np.random.randint(N_)\n",
    "    x_sel = arr_pd[i_sel:i_sel+1,:]\n",
    "    S = cdist(arr_pd,x_sel)[:,0]\n",
    "\n",
    "    for i_d,d in enumerate(arr_d):\n",
    "        N_d = len(np.where(S<=d)[0])\n",
    "        arr_N_d[i_n_rep,i_d] = N_d"
   ]
  },
  {
   "cell_type": "code",
   "execution_count": 10,
   "metadata": {},
   "outputs": [
    {
     "name": "stderr",
     "output_type": "stream",
     "text": [
      "/home/martin/anaconda3/lib/python3.7/site-packages/matplotlib/pyplot.py:1442: UserWarning: Attempted to set non-positive left xlim on a log-scaled axis.\n",
      "Invalid limit will be ignored.\n",
      "  ret = ax.set_xlim(*args, **kwargs)\n"
     ]
    },
    {
     "data": {
      "text/plain": [
       "Text(0, 0.5, 'Number of respondents within radius $r$')"
      ]
     },
     "execution_count": 10,
     "metadata": {},
     "output_type": "execute_result"
    },
    {
     "data": {
      "image/png": "[encoded data removed]",
      "text/plain": [
       "<Figure size 432x288 with 1 Axes>"
      ]
     },
     "metadata": {
      "needs_background": "light"
     },
     "output_type": "display_data"
    }
   ],
   "source": [
    "x = arr_d\n",
    "z = arr_N_d#/N_\n",
    "y = np.mean(z,axis=0)\n",
    "# yerr=np.std(z,axis=0)\n",
    "y_perc = np.percentile(z,q=[2.5,97.5],axis=0)\n",
    "y_err = 0.0*y_perc\n",
    "y_err[0] = y-y_perc[0]\n",
    "y_err[1] = y_perc[1]-y\n",
    "plt.plot(x,y,marker='o',ms=0)\n",
    "plt.fill_between(x,y_perc[0],y_perc[1],alpha=0.5)\n",
    "\n",
    "plt.plot([min(arr_d),max(arr_d)],[N_,N_],color='black',ls='-',alpha=0.6)\n",
    "plt.plot([0.2,0.2],[1,N_],ls=':',color='black')\n",
    "\n",
    "plt.yscale('log')\n",
    "plt.xscale('log')\n",
    "# plt.xlim(0,max(arr_d))\n",
    "plt.xlim(0,11)\n",
    "\n",
    "plt.xlabel(r'Radius of hypershere, $r$')\n",
    "plt.ylabel(r'Number of respondents within radius $r$')"
   ]
  },
  {
   "cell_type": "code",
   "execution_count": null,
   "metadata": {
    "collapsed": true
   },
   "outputs": [],
   "source": []
  },
  {
   "cell_type": "code",
   "execution_count": null,
   "metadata": {},
   "outputs": [],
   "source": []
  },
  {
   "cell_type": "code",
   "execution_count": null,
   "metadata": {},
   "outputs": [],
   "source": []
  },
  {
   "cell_type": "code",
   "execution_count": null,
   "metadata": {},
   "outputs": [],
   "source": []
  },
  {
   "cell_type": "code",
   "execution_count": 11,
   "metadata": {
    "collapsed": true
   },
   "outputs": [
    {
     "name": "stderr",
     "output_type": "stream",
     "text": [
      "/home/martin/anaconda3/lib/python3.7/site-packages/matplotlib/__init__.py:846: MatplotlibDeprecationWarning: \n",
      "The text.latex.unicode rcparam was deprecated in Matplotlib 2.2 and will be removed in 3.1.\n",
      "  \"2.2\", name=key, obj_type=\"rcparam\", addendum=addendum)\n"
     ]
    }
   ],
   "source": [
    "###########\n",
    "## Setup ##\n",
    "###########\n",
    "# number of pt for column in latex-document\n",
    "fig_width_pt = 246  # single-column:510, double-column: 246; Get this from LaTeX using \\showthe\\columnwidth\n",
    "inches_per_pt = 1.1/72.27 # Convert pt to inches\n",
    "width_vs_height = (np.sqrt(5)-1.0)/1.8# Ratio of height/width [(np.sqrt(5)-1.0)/2.0]\n",
    "fig_width = fig_width_pt*inches_per_pt  # width in inches\n",
    "fig_height = width_vs_height*fig_width  # height in inches\n",
    "Ampl = 1.0 # Amplification factor for screen: set this to ONE for final plot of eps\n",
    "fig_size = [Ampl*fig_width,Ampl*fig_height]\n",
    "\n",
    "# here you can set the parameters of the plot (fontsizes,...) in pt\n",
    "params = {'backend': 'ps',\n",
    "          'axes.labelsize': Ampl*10,\n",
    "#           'text.fontsize': Ampl*10,\n",
    "          'legend.fontsize': Ampl*8,\n",
    "          'xtick.labelsize': Ampl*10,\n",
    "          'ytick.labelsize': Ampl*10,\n",
    "          'text.usetex': True,\n",
    "          'ps.usedistiller' : 'xpdf',\n",
    "          'figure.figsize': fig_size,\n",
    "          #'figtext.fontsize': Ampl*10,\n",
    "          'text.latex.unicode':True,\n",
    "          'text.latex.preamble': [r'\\usepackage{bm}'],\n",
    "          'xtick.direction':'out',\n",
    "          'ytick.direction':'out',\n",
    "          \n",
    "          'axes.spines.right' : False,\n",
    "          'axes.spines.top' : False\n",
    "\n",
    "         }\n",
    "plt.rcParams.update(params)"
   ]
  },
  {
   "cell_type": "code",
   "execution_count": 15,
   "metadata": {},
   "outputs": [
    {
     "name": "stdout",
     "output_type": "stream",
     "text": [
      "0.23\n"
     ]
    },
    {
     "data": {
      "image/png": "[encoded data removed]",
      "text/plain": [
       "<Figure size 269.589x185.128 with 1 Axes>"
      ]
     },
     "metadata": {
      "needs_background": "light"
     },
     "output_type": "display_data"
    }
   ],
   "source": [
    "cmap = get_cmap('tab10')\n",
    "\n",
    "\n",
    "f = plt.figure()\n",
    "plt.clf()\n",
    "ax = f.add_subplot(111)\n",
    "\n",
    "x = arr_d\n",
    "z = arr_N_d#/N_\n",
    "y = np.mean(z,axis=0)\n",
    "# yerr=np.std(z,axis=0)\n",
    "y_perc = np.percentile(z,q=[5,95],axis=0)\n",
    "y_err = 0.0*y_perc\n",
    "y_err[0] = y-y_perc[0]\n",
    "y_err[1] = y_perc[1]-y\n",
    "ax.plot(x,y,marker='o',ms=0)\n",
    "ax.fill_between(x,y_perc[0],y_perc[1],alpha=0.5)\n",
    "\n",
    "ax.plot([min(arr_d),max(arr_d)],[N_,N_],color='black',ls='-',alpha=0.6)\n",
    "ind_sel = np.where(y>2)[0][0]\n",
    "d_sel = arr_d[ind_sel]\n",
    "print(d_sel)\n",
    "# ax.plot([d_sel,d_sel],[1,N_],ls=':',color='black')\n",
    "ax.plot([d_sel,d_sel],[0,2],ls=':',color='black')\n",
    "ax.plot([0,d_sel],[2,2],ls=':',color='black')\n",
    "\n",
    "\n",
    "ax.set_yscale('log')\n",
    "# ax.set_xscale('log')\n",
    "# plt.xlim(0,max(arr_d))\n",
    "ax.set_xlim(0,3)\n",
    "\n",
    "ax.set_xlabel(r'Radius of hypersphere, $r$')\n",
    "ax.set_ylabel(r'Number of respondents')\n",
    "\n",
    "\n",
    "# plt.figtext(0.3,0.8,'%s - type '%(type_i))\n",
    "\n",
    "# ax.plot([0.4,0.4],[0,1.57],ls=':',lw=1,color='black')\n",
    "# ax.plot([0.8,0.8],[0,1.58],ls=':',lw=1,color='black')\n",
    "\n",
    "plt.subplots_adjust(bottom=0.175,wspace=0.4,left=0.15)\n",
    "\n",
    "path_save = '../figures/'\n",
    "fname_save = 'commentary-freudenstein_fig-c-no-repsondents-in-hypersphere.png'\n",
    "filename = os.path.join(path_save,fname_save)\n",
    "plt.savefig(filename,dpi=300)"
   ]
  },
  {
   "cell_type": "code",
   "execution_count": null,
   "metadata": {
    "collapsed": true
   },
   "outputs": [],
   "source": []
  },
  {
   "cell_type": "code",
   "execution_count": null,
   "metadata": {},
   "outputs": [],
   "source": []
  }
 ],
 "metadata": {
  "kernelspec": {
   "display_name": "Python 3",
   "language": "python",
   "name": "python3"
  },
  "language_info": {
   "codemirror_mode": {
    "name": "ipython",
    "version": 3
   },
   "file_extension": ".py",
   "mimetype": "text/x-python",
   "name": "python",
   "nbconvert_exporter": "python",
   "pygments_lexer": "ipython3",
   "version": "3.7.3"
  }
 },
 "nbformat": 4,
 "nbformat_minor": 2
}
