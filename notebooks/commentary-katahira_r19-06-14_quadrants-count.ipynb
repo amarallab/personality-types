{
 "cells": [
  {
   "cell_type": "code",
   "execution_count": 1,
   "metadata": {},
   "outputs": [],
   "source": [
    "%load_ext autoreload\n",
    "%autoreload 2\n",
    "\n",
    "import os, sys\n",
    "import pandas as pd\n",
    "import numpy as np\n",
    "import glob\n",
    "# import pickle\n",
    "import pylab as plt\n",
    "\n",
    "from matplotlib.pyplot import get_cmap\n",
    "%matplotlib inline  \n",
    "\n",
    "src_dir = os.path.abspath(os.path.join(os.pardir,'src'))\n",
    "sys.path[0] = src_dir\n",
    "\n"
   ]
  },
  {
   "cell_type": "markdown",
   "metadata": {},
   "source": [
    "# Data"
   ]
  },
  {
   "cell_type": "code",
   "execution_count": 2,
   "metadata": {},
   "outputs": [],
   "source": [
    "path_read = '../data_filter/'\n",
    "fname_data = 'ipip300-no0_arr_pd_neoac_score-1.npy'\n",
    "filename= os.path.join(path_read,fname_data)\n",
    "label = fname_data.split('.')\n",
    "\n",
    "list_doms = ['N','E','O','A','C']\n",
    "dict_dom_name = {\n",
    "    'N':'Neuroticism',\n",
    "    'E':'Extraversion',\n",
    "    'O':'Openness',\n",
    "    'A':'Agreeableness',\n",
    "    'C':'Conscientiousness'\n",
    "                }\n",
    "list_doms_labels = list_doms"
   ]
  },
  {
   "cell_type": "code",
   "execution_count": 3,
   "metadata": {},
   "outputs": [],
   "source": [
    "## load data   \n",
    "X = np.load(filename)\n",
    "P,D = np.shape(X)"
   ]
  },
  {
   "cell_type": "markdown",
   "metadata": {},
   "source": [
    "## Count the number of respondents in each quadrant\n",
    "\n",
    "I can resproduce their table.\n",
    "\n",
    "Coding the types in the same way, our 4 types are among the top 7 quadrants.\n",
    "Thus, this is consistent.\n",
    "\n",
    "HOwever, I am not sure whether this analysis necessarily supports their point about the skew, \n",
    "because the types also lead to such an observation."
   ]
  },
  {
   "cell_type": "code",
   "execution_count": 4,
   "metadata": {},
   "outputs": [],
   "source": [
    "## enumerate all possibilities 00001,00010,..., 11111\n",
    "from itertools import product\n",
    "list_s = ['0','1']\n",
    "list_q = []\n",
    "for s1,s2,s3,s4,s5 in product(list_s,list_s,list_s,list_s,list_s):\n",
    "    s = s1+s2+s3+s4+s5\n",
    "    list_q += [s]\n",
    "        "
   ]
  },
  {
   "cell_type": "code",
   "execution_count": 5,
   "metadata": {},
   "outputs": [],
   "source": [
    "## count the number of respondents in each quadrant\n",
    "list_n = []\n",
    "for q in list_q:\n",
    "    s = [int(h) for h in q]\n",
    "    set_inds = set(np.arange(P))\n",
    "    for i in range(5):\n",
    "        if s[i] == 0:\n",
    "            inds = np.where( X[:,i]<=0 )[0]\n",
    "        else:\n",
    "            inds =  np.where( X[:,i]>0 )[0]\n",
    "        set_inds = set_inds.intersection(set(inds))\n",
    "    n = len(set_inds) \n",
    "    list_n += [n]\n",
    "#     break"
   ]
  },
  {
   "cell_type": "code",
   "execution_count": 6,
   "metadata": {},
   "outputs": [],
   "source": [
    "## null model: sampling 5D traitvectors from the skewed marginals\n",
    "## this is the same as randomizing trait-scores and keeping the marginals fixed\n",
    "## we average over n_rep (=10) iterations\n",
    "\n",
    "from analysis.data_sample import data_randomize\n",
    "n_rep = 10\n",
    "list_n_r = np.zeros(len(list_q))\n",
    "list_n2_r = np.zeros(len(list_q))\n",
    "\n",
    "for i_n_rep in range(n_rep):\n",
    "\n",
    "    X_r = data_randomize(X)\n",
    "    list_n_r_tmp = []\n",
    "    for q in list_q:\n",
    "        s = [int(h) for h in q]\n",
    "        set_inds = set(np.arange(P))\n",
    "        for i in range(5):\n",
    "            if s[i] == 0:\n",
    "                inds = np.where( X_r[:,i]<=0 )[0]\n",
    "            else:\n",
    "                inds =  np.where( X_r[:,i]>0 )[0]\n",
    "            set_inds = set_inds.intersection(set(inds))\n",
    "        n = len(set_inds) \n",
    "        list_n_r_tmp += [n]\n",
    "    list_n_r += np.array(list_n_r_tmp)/n_rep\n",
    "    list_n2_r += np.array(list_n_r_tmp)**2/n_rep\n",
    "list_n_r_std = np.sqrt( list_n2_r -  list_n_r**2 )"
   ]
  },
  {
   "cell_type": "code",
   "execution_count": 11,
   "metadata": {},
   "outputs": [
    {
     "data": {
      "text/plain": [
       "1.2360679774997898"
      ]
     },
     "execution_count": 11,
     "metadata": {},
     "output_type": "execute_result"
    }
   ],
   "source": [
    "np.sqrt(5)-1.0"
   ]
  },
  {
   "cell_type": "code",
   "execution_count": 21,
   "metadata": {},
   "outputs": [
    {
     "name": "stderr",
     "output_type": "stream",
     "text": [
      "/home/martin/anaconda3/lib/python3.7/site-packages/matplotlib/__init__.py:846: MatplotlibDeprecationWarning: \n",
      "The text.latex.unicode rcparam was deprecated in Matplotlib 2.2 and will be removed in 3.1.\n",
      "  \"2.2\", name=key, obj_type=\"rcparam\", addendum=addendum)\n"
     ]
    }
   ],
   "source": [
    "###########\n",
    "## Setup ##\n",
    "###########\n",
    "# number of pt for column in latex-document\n",
    "fig_width_pt = 510  # single-column:510, double-column: 246; Get this from LaTeX using \\showthe\\columnwidth\n",
    "inches_per_pt = 1.1/72.27 # Convert pt to inches\n",
    "width_vs_height = (np.sqrt(5)-1.0)/0.8#(np.sqrt(5)-1.0)/2.0 # Ratio of height/width [(np.sqrt(5)-1.0)/2.0]\n",
    "fig_width = fig_width_pt*inches_per_pt  # width in inches\n",
    "fig_height = width_vs_height*fig_width  # height in inches\n",
    "fig_size = [fig_width,fig_height]\n",
    "\n",
    "# here you can set the parameters of the plot (fontsizes,...) in pt\n",
    "params = {'backend': 'ps',\n",
    "          'axes.titlesize':14,\n",
    "          'axes.labelsize': 14,\n",
    "#           'text.fontsize': 10,\n",
    "          'legend.fontsize': 12,\n",
    "#           'figtext.fontsize': 12,\n",
    "          'xtick.labelsize': 12,\n",
    "          'ytick.labelsize': 12,\n",
    "          \n",
    "          'text.usetex': True,\n",
    "          'ps.usedistiller' : 'xpdf',\n",
    "          'figure.figsize': fig_size,\n",
    "          'text.latex.unicode':True,\n",
    "          'text.latex.preamble': [r'\\usepackage{bm}'],\n",
    "          \n",
    "          'xtick.direction':'out',\n",
    "          'ytick.direction':'out',\n",
    "          \n",
    "          'axes.spines.right' : False,\n",
    "          'axes.spines.top' : False\n",
    "         }\n",
    "plt.rcParams.update(params)\n",
    "\n",
    "set_b = 0.22 # set bottom\n",
    "set_l = 0.1 # set left\n",
    "set_r = 0.925 # set right\n",
    "set_hs = 0.2 # set horizontal space\n",
    "set_vs = 0.25 # set vertical space\n",
    "\n",
    "set_ms = 0.0 # set marker size\n",
    "set_lw = 2.5 # set line width\n",
    "set_alpha = 0.8\n",
    "\n",
    "n_std = 2\n",
    "\n",
    "## set colors\n",
    "cmap = 'tab10'\n",
    "cm = plt.get_cmap(cmap)"
   ]
  },
  {
   "cell_type": "code",
   "execution_count": 37,
   "metadata": {},
   "outputs": [
    {
     "data": {
      "image/png": "[encoded data removed]",
      "text/plain": [
       "<Figure size 558.904x863.554 with 1 Axes>"
      ]
     },
     "metadata": {
      "needs_background": "light"
     },
     "output_type": "display_data"
    }
   ],
   "source": [
    "fig = plt.figure(figsize=fig_size)\n",
    "ax = fig.add_subplot(111)\n",
    "\n",
    "## sort from lowest counts to highest counts\n",
    "indsort = np.argsort(list_n)\n",
    "width = 0.3\n",
    "\n",
    "## plot data counts\n",
    "y_ = np.array(list_n)[indsort]\n",
    "x_ = np.array(list_q)[indsort]\n",
    "ax.barh(x_,y_,height=width,align='edge',label='Data')\n",
    "\n",
    "## plot null model counts\n",
    "y_ = np.array(list_n_r)[indsort]\n",
    "yerr_ = np.array(list_n_r_std)[indsort]\n",
    "x_ = np.array(list_q)[indsort]\n",
    "ax.barh(x_,y_,xerr=yerr_,height=-width,align='edge',label='Skewed marginals')\n",
    "\n",
    "## plot dotted reference curve\n",
    "n_avg = P/len(list_q)\n",
    "ax.plot([n_avg,n_avg],[-1,len(list_q)],ls=':',color='black')\n",
    "\n",
    "ax.set_xlabel('Frequency')\n",
    "ax.set_ylabel('Orthant')\n",
    "\n",
    "ax.set_ylim(-1,len(list_q))\n",
    "\n",
    "ax.legend(loc='lower right',borderaxespad=0.7)\n",
    "\n",
    "path_save = '../figures/'\n",
    "fname_save = 'commentary-katahira_quadrant-count.png'\n",
    "fname_save = 'commentary-katahira_quadrant-count.svg'\n",
    "\n",
    "filename = os.path.join(path_save,fname_save)\n",
    "plt.savefig(filename,dpi=300)"
   ]
  },
  {
   "cell_type": "code",
   "execution_count": null,
   "metadata": {},
   "outputs": [],
   "source": []
  },
  {
   "cell_type": "markdown",
   "metadata": {},
   "source": [
    "# Interpretation\n",
    "\n",
    "the question we ask here is the following:\n",
    "\n",
    "the authors of the comment suggest that the skewness alone can lead to those 'peaks', where there are some quadrants with many more participants.\n",
    "Looking at the random dataset we can assess how many respsondents we would find in each quadrant only due to the skewness, because the shuffling preserves the marginal distributions and thus the skewness.\n",
    "\n",
    "Comparing the actual number of respondents with the number of respondents in the shuffled data suggests that there are only few quadrants in which we find many more respondents than we would expect from the skewness.\n",
    "\n",
    "Coding our types into 0-1 format, we find that all 3 types (the avergae type cannot really be coded in  that scheme) are not only among the top-quadrants, but also only those which habve an excess mass.\n",
    "\n",
    "# Comparison of our types:\n",
    "\n",
    "- average: not really clear how to code in the quadrants looking -1, 1\n",
    "- self-centered: 01000\n",
    "- reserved: 01011\n",
    "- role-model: 01111\n",
    "\n",
    "These 3 are in the top 5 (and among the top-4 for which there is an excess in mass).\n",
    "\n",
    "\n",
    "# A reminder of our null model\n",
    "\n",
    "THe null model simulates what the data would look like if all trait scores were indepdnent of each other.\n",
    "Indeed having skew explains some of the observed effect, but not all; and it certainly gets some quadrants completely wrong.\n",
    "Therefore, it is important to look at the combination of trait-scores to get the full picture"
   ]
  },
  {
   "cell_type": "code",
   "execution_count": 9,
   "metadata": {},
   "outputs": [
    {
     "data": {
      "text/plain": [
       "145388"
      ]
     },
     "execution_count": 9,
     "metadata": {},
     "output_type": "execute_result"
    }
   ],
   "source": [
    "P"
   ]
  },
  {
   "cell_type": "code",
   "execution_count": null,
   "metadata": {},
   "outputs": [],
   "source": []
  },
  {
   "cell_type": "code",
   "execution_count": null,
   "metadata": {},
   "outputs": [],
   "source": []
  }
 ],
 "metadata": {
  "kernelspec": {
   "display_name": "Python 3",
   "language": "python",
   "name": "python3"
  },
  "language_info": {
   "codemirror_mode": {
    "name": "ipython",
    "version": 3
   },
   "file_extension": ".py",
   "mimetype": "text/x-python",
   "name": "python",
   "nbconvert_exporter": "python",
   "pygments_lexer": "ipython3",
   "version": "3.7.3"
  }
 },
 "nbformat": 4,
 "nbformat_minor": 2
}
